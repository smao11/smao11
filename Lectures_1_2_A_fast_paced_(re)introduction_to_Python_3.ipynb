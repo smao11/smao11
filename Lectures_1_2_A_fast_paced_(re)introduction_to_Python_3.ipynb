{
  "nbformat": 4,
  "nbformat_minor": 0,
  "metadata": {
    "colab": {
      "name": "Lectures 1/2: A fast-paced (re)introduction to Python 3",
      "provenance": [],
      "collapsed_sections": [
        "FrOuZWcdbkyh",
        "dRtVOqsBC4AJ",
        "v3CGE72REsXJ"
      ],
      "include_colab_link": true
    },
    "kernelspec": {
      "name": "python3",
      "display_name": "Python 3"
    }
  },
  "cells": [
    {
      "cell_type": "markdown",
      "metadata": {
        "id": "view-in-github",
        "colab_type": "text"
      },
      "source": [
        "<a href=\"https://colab.research.google.com/github/smao11/smao11/blob/master/Lectures_1_2_A_fast_paced_(re)introduction_to_Python_3.ipynb\" target=\"_parent\"><img src=\"https://colab.research.google.com/assets/colab-badge.svg\" alt=\"Open In Colab\"/></a>"
      ]
    },
    {
      "cell_type": "markdown",
      "metadata": {
        "id": "1Ycy34VcX4lu",
        "colab_type": "text"
      },
      "source": [
        "# Lectures 1/2: A fast-paced (re)introduction to Python 3"
      ]
    },
    {
      "cell_type": "markdown",
      "metadata": {
        "id": "X5VBxq824B5P",
        "colab_type": "text"
      },
      "source": [
        "_This notebook is a derivative work of [\"Introduction to Python 3\"](https://colab.research.google.com/drive/1u2JiL4uyXaPbRN1jAHpgbqY1TIWSHtj9) by [Luca de Alfaro](https://sites.google.com/a/ucsc.edu/luca/), used under [CC BY-NC 4.0](https://creativecommons.org/licenses/by-nc/4.0/).  This notebook is licensed under [CC BY-NC 4.0](https://creativecommons.org/licenses/by-nc/4.0/) by [Lindsey Kuper](https://users.soe.ucsc.edu/~lkuper/)._\n",
        "\n",
        "**Tip:** You can instantly make your own interactive copy of this notebook using [Google Colaboratory](https://colab.research.google.com/notebooks/welcome.ipynb).  Just click on \"File > Save a copy in Drive...\" and then go play with your own copy!"
      ]
    },
    {
      "cell_type": "markdown",
      "metadata": {
        "id": "0ZEC4V3pjalH",
        "colab_type": "text"
      },
      "source": [
        "## Integers, floats, strings, booleans, and ... None!"
      ]
    },
    {
      "cell_type": "markdown",
      "metadata": {
        "id": "ttsX-Wj2JTc4",
        "colab_type": "text"
      },
      "source": [
        "In Python there are numbers, which can be of integer or float type."
      ]
    },
    {
      "cell_type": "code",
      "metadata": {
        "id": "9DzUH9EWXmvR",
        "colab_type": "code",
        "colab": {}
      },
      "source": [
        "x = 1 # int\n",
        "y = 1. # float"
      ],
      "execution_count": 0,
      "outputs": []
    },
    {
      "cell_type": "markdown",
      "metadata": {
        "id": "ZsdvbpqHJenf",
        "colab_type": "text"
      },
      "source": [
        "You can sum, multiply, and subtract numbers, and the result is integer if and only if both operands are integers."
      ]
    },
    {
      "cell_type": "code",
      "metadata": {
        "id": "vKMUHQtJ93DU",
        "colab_type": "code",
        "outputId": "beefef08-caca-462f-e6b9-17c07f28f80a",
        "colab": {
          "base_uri": "https://localhost:8080/",
          "height": 34
        }
      },
      "source": [
        "x + y"
      ],
      "execution_count": 0,
      "outputs": [
        {
          "output_type": "execute_result",
          "data": {
            "text/plain": [
              "2.0"
            ]
          },
          "metadata": {
            "tags": []
          },
          "execution_count": 2
        }
      ]
    },
    {
      "cell_type": "code",
      "metadata": {
        "id": "bnpV9j2AixQj",
        "colab_type": "code",
        "outputId": "7504e857-150a-40b8-81dc-3f59e3098e7b",
        "colab": {
          "base_uri": "https://localhost:8080/",
          "height": 34
        }
      },
      "source": [
        "x + 1"
      ],
      "execution_count": 0,
      "outputs": [
        {
          "output_type": "execute_result",
          "data": {
            "text/plain": [
              "2"
            ]
          },
          "metadata": {
            "tags": []
          },
          "execution_count": 3
        }
      ]
    },
    {
      "cell_type": "markdown",
      "metadata": {
        "id": "3XCWmITwJpL4",
        "colab_type": "text"
      },
      "source": [
        "In Python 3, division between integers generates a float.  This remedies a long-standing \"gotcha\" in Python 2, where 1 / 2 = 0, because division between integers returned an integer: the result of integer division."
      ]
    },
    {
      "cell_type": "code",
      "metadata": {
        "id": "1ypAUKH8YfAN",
        "colab_type": "code",
        "outputId": "229a70e0-9fc3-4fcc-ba68-409e79a87219",
        "colab": {
          "base_uri": "https://localhost:8080/",
          "height": 34
        }
      },
      "source": [
        "x/2"
      ],
      "execution_count": 0,
      "outputs": [
        {
          "output_type": "execute_result",
          "data": {
            "text/plain": [
              "0.5"
            ]
          },
          "metadata": {
            "tags": []
          },
          "execution_count": 4
        }
      ]
    },
    {
      "cell_type": "markdown",
      "metadata": {
        "id": "KVf4Kt-zTsQ0",
        "colab_type": "text"
      },
      "source": [
        "In Python 3, integer division is written `//`, and remainder is written `%`."
      ]
    },
    {
      "cell_type": "code",
      "metadata": {
        "id": "8GHf-9dH9oFu",
        "colab_type": "code",
        "outputId": "a6e50a81-72f1-4dbc-ade7-b6dc4c18212d",
        "colab": {
          "base_uri": "https://localhost:8080/",
          "height": 34
        }
      },
      "source": [
        "7 // 3"
      ],
      "execution_count": 0,
      "outputs": [
        {
          "output_type": "execute_result",
          "data": {
            "text/plain": [
              "2"
            ]
          },
          "metadata": {
            "tags": []
          },
          "execution_count": 5
        }
      ]
    },
    {
      "cell_type": "code",
      "metadata": {
        "id": "ZtMjCM89i4Ba",
        "colab_type": "code",
        "outputId": "e521fa76-34e0-4453-ba86-cea14c211cd1",
        "colab": {
          "base_uri": "https://localhost:8080/",
          "height": 34
        }
      },
      "source": [
        "7 % 3"
      ],
      "execution_count": 0,
      "outputs": [
        {
          "output_type": "execute_result",
          "data": {
            "text/plain": [
              "1"
            ]
          },
          "metadata": {
            "tags": []
          },
          "execution_count": 6
        }
      ]
    },
    {
      "cell_type": "markdown",
      "metadata": {
        "id": "FMof2kEyUzpU",
        "colab_type": "text"
      },
      "source": [
        "There are also strings in Python.  They can be delimited with either double quotes, like `\"this\"`, or single quotes, like `'this'`."
      ]
    },
    {
      "cell_type": "code",
      "metadata": {
        "id": "1jV22BHoYt8F",
        "colab_type": "code",
        "outputId": "1b1d3baa-69cc-46e6-ee6f-03a4b953f953",
        "colab": {
          "base_uri": "https://localhost:8080/",
          "height": 34
        }
      },
      "source": [
        "s = 'A string'\n",
        "t = \"It's nice to be able to choose the delimiters\"\n",
        "t"
      ],
      "execution_count": 0,
      "outputs": [
        {
          "output_type": "execute_result",
          "data": {
            "text/plain": [
              "\"It's nice to be able to choose the delimiters\""
            ]
          },
          "metadata": {
            "tags": []
          },
          "execution_count": 7
        }
      ]
    },
    {
      "cell_type": "markdown",
      "metadata": {
        "id": "nXyUU5vXVAT9",
        "colab_type": "text"
      },
      "source": [
        "Another primitive data type is booleans.  There are two values of boolean type: `True` and `False`.\n"
      ]
    },
    {
      "cell_type": "code",
      "metadata": {
        "id": "V2iquQzZjGAL",
        "colab_type": "code",
        "outputId": "3ff62b89-1b07-47b9-9bf5-ea4ea5d4955a",
        "colab": {
          "base_uri": "https://localhost:8080/",
          "height": 34
        }
      },
      "source": [
        "b = True\n",
        "not b"
      ],
      "execution_count": 0,
      "outputs": [
        {
          "output_type": "execute_result",
          "data": {
            "text/plain": [
              "False"
            ]
          },
          "metadata": {
            "tags": []
          },
          "execution_count": 8
        }
      ]
    },
    {
      "cell_type": "markdown",
      "metadata": {
        "id": "Jow8R-WyVJk3",
        "colab_type": "text"
      },
      "source": [
        "Comparison operators such as `<` and `==` have boolean result:\n"
      ]
    },
    {
      "cell_type": "code",
      "metadata": {
        "id": "tYki8KdKjNUc",
        "colab_type": "code",
        "outputId": "5c6cf5fd-58a0-4719-afde-bb8bab87f5d9",
        "colab": {
          "base_uri": "https://localhost:8080/",
          "height": 34
        }
      },
      "source": [
        "4 < 8"
      ],
      "execution_count": 0,
      "outputs": [
        {
          "output_type": "execute_result",
          "data": {
            "text/plain": [
              "True"
            ]
          },
          "metadata": {
            "tags": []
          },
          "execution_count": 9
        }
      ]
    },
    {
      "cell_type": "code",
      "metadata": {
        "id": "VRRTwpkijAot",
        "colab_type": "code",
        "outputId": "8577f06a-14b7-41b1-9cec-6b8aa9a426ef",
        "colab": {
          "base_uri": "https://localhost:8080/",
          "height": 34
        }
      },
      "source": [
        "4 == 8"
      ],
      "execution_count": 0,
      "outputs": [
        {
          "output_type": "execute_result",
          "data": {
            "text/plain": [
              "False"
            ]
          },
          "metadata": {
            "tags": []
          },
          "execution_count": 10
        }
      ]
    },
    {
      "cell_type": "markdown",
      "metadata": {
        "id": "xqsaDqBsVR3m",
        "colab_type": "text"
      },
      "source": [
        "There's a special value in Python that means \"no value\".  It's called `None`. "
      ]
    },
    {
      "cell_type": "code",
      "metadata": {
        "id": "fJNJLuAmjoZ0",
        "colab_type": "code",
        "outputId": "cc672079-b435-4adc-f40d-b08c21bdda1e",
        "colab": {
          "base_uri": "https://localhost:8080/",
          "height": 34
        }
      },
      "source": [
        "c = None\n",
        "print(c)"
      ],
      "execution_count": 0,
      "outputs": [
        {
          "output_type": "stream",
          "text": [
            "None\n"
          ],
          "name": "stdout"
        }
      ]
    },
    {
      "cell_type": "code",
      "metadata": {
        "id": "zsHpoBNxjQXf",
        "colab_type": "code",
        "outputId": "abe79a82-7495-43eb-aa15-da6a2aefe28a",
        "colab": {
          "base_uri": "https://localhost:8080/",
          "height": 34
        }
      },
      "source": [
        "type(c)"
      ],
      "execution_count": 0,
      "outputs": [
        {
          "output_type": "execute_result",
          "data": {
            "text/plain": [
              "NoneType"
            ]
          },
          "metadata": {
            "tags": []
          },
          "execution_count": 12
        }
      ]
    },
    {
      "cell_type": "markdown",
      "metadata": {
        "id": "SA22FKhWnkxB",
        "colab_type": "text"
      },
      "source": [
        "It might seem odd to have a value for denoting no value, but it turns out \n",
        "to be incredibly useful.  For instance, it is very often the case that you \n",
        "want a function to return some result if it exists, but also have a way of indicating that there is no result.\n",
        "\n",
        "`None` is also commonly used to denote that an option is not used, or that a variable has not been initialized.  We will see more examples of it later.  "
      ]
    },
    {
      "cell_type": "markdown",
      "metadata": {
        "id": "r4WnGiB5Vk1A",
        "colab_type": "text"
      },
      "source": [
        "The operators `+`, `-`, `*`, and `/` can also be used with the following shorthand:"
      ]
    },
    {
      "cell_type": "code",
      "metadata": {
        "id": "M5UsSCiR-G1r",
        "colab_type": "code",
        "outputId": "adb82ec4-584a-414d-9db9-385ed7a91f38",
        "colab": {
          "base_uri": "https://localhost:8080/",
          "height": 52
        }
      },
      "source": [
        "x = 2\n",
        "x = x + 1\n",
        "x += 1 # Same as above\n",
        "print(x)\n",
        "x *= 3 # What does this do? \n",
        "print(x)"
      ],
      "execution_count": 0,
      "outputs": [
        {
          "output_type": "stream",
          "text": [
            "4\n",
            "12\n"
          ],
          "name": "stdout"
        }
      ]
    },
    {
      "cell_type": "markdown",
      "metadata": {
        "id": "TA461_UgZxs7",
        "colab_type": "text"
      },
      "source": [
        "## Lists and tuples"
      ]
    },
    {
      "cell_type": "markdown",
      "metadata": {
        "id": "FrOuZWcdbkyh",
        "colab_type": "text"
      },
      "source": [
        "### Lists"
      ]
    },
    {
      "cell_type": "markdown",
      "metadata": {
        "id": "5JbdQnyJWpoP",
        "colab_type": "text"
      },
      "source": [
        "Lists are one of the built-in data types in Python."
      ]
    },
    {
      "cell_type": "code",
      "metadata": {
        "id": "_DZtN4diZ3CG",
        "colab_type": "code",
        "outputId": "d3f68cd8-9979-44b1-de97-a41f1fc4688a",
        "colab": {
          "base_uri": "https://localhost:8080/",
          "height": 34
        }
      },
      "source": [
        "l = ['a', 'b', 'c']\n",
        "l"
      ],
      "execution_count": 0,
      "outputs": [
        {
          "output_type": "execute_result",
          "data": {
            "text/plain": [
              "['a', 'b', 'c']"
            ]
          },
          "metadata": {
            "tags": []
          },
          "execution_count": 14
        }
      ]
    },
    {
      "cell_type": "markdown",
      "metadata": {
        "id": "diOFue46Wtbj",
        "colab_type": "text"
      },
      "source": [
        "Lists are 0-indexed:"
      ]
    },
    {
      "cell_type": "code",
      "metadata": {
        "id": "nIIfkql1aShY",
        "colab_type": "code",
        "outputId": "2a77b6a8-035a-449b-ec86-1f738b8371a8",
        "colab": {
          "base_uri": "https://localhost:8080/",
          "height": 34
        }
      },
      "source": [
        "l2 = ['cat', 'dog', 'bird']\n",
        "l2[0]"
      ],
      "execution_count": 0,
      "outputs": [
        {
          "output_type": "execute_result",
          "data": {
            "text/plain": [
              "'cat'"
            ]
          },
          "metadata": {
            "tags": []
          },
          "execution_count": 15
        }
      ]
    },
    {
      "cell_type": "code",
      "metadata": {
        "id": "zBxmZiMTioUU",
        "colab_type": "code",
        "outputId": "0e397e87-d088-46b3-d5a8-08e2e334aa17",
        "colab": {
          "base_uri": "https://localhost:8080/",
          "height": 34
        }
      },
      "source": [
        "l2[1]"
      ],
      "execution_count": 0,
      "outputs": [
        {
          "output_type": "execute_result",
          "data": {
            "text/plain": [
              "'dog'"
            ]
          },
          "metadata": {
            "tags": []
          },
          "execution_count": 16
        }
      ]
    },
    {
      "cell_type": "markdown",
      "metadata": {
        "id": "23NhvjOzSlu4",
        "colab_type": "text"
      },
      "source": [
        "### List slicing"
      ]
    },
    {
      "cell_type": "markdown",
      "metadata": {
        "id": "P-ClxucDWyf7",
        "colab_type": "text"
      },
      "source": [
        "You can slice (that's a technical term) the beginning and end of a list:\n"
      ]
    },
    {
      "cell_type": "code",
      "metadata": {
        "id": "Tjb1t38Maxg6",
        "colab_type": "code",
        "outputId": "2b6ce811-479a-4bf3-c0fa-cd96f4d2aef6",
        "colab": {
          "base_uri": "https://localhost:8080/",
          "height": 34
        }
      },
      "source": [
        "l = ['cat', 'dog', 'bird', 'fish', 'ant', 'fly']\n",
        "l[:3] # Till element 3, excluded"
      ],
      "execution_count": 0,
      "outputs": [
        {
          "output_type": "execute_result",
          "data": {
            "text/plain": [
              "['cat', 'dog', 'bird']"
            ]
          },
          "metadata": {
            "tags": []
          },
          "execution_count": 17
        }
      ]
    },
    {
      "cell_type": "code",
      "metadata": {
        "id": "9NM7TvV8bH1E",
        "colab_type": "code",
        "outputId": "08d51243-d455-42b1-a9f6-c1731cb46c9e",
        "colab": {
          "base_uri": "https://localhost:8080/",
          "height": 34
        }
      },
      "source": [
        "l[3:] # From element 3 onwards"
      ],
      "execution_count": 0,
      "outputs": [
        {
          "output_type": "execute_result",
          "data": {
            "text/plain": [
              "['fish', 'ant', 'fly']"
            ]
          },
          "metadata": {
            "tags": []
          },
          "execution_count": 18
        }
      ]
    },
    {
      "cell_type": "code",
      "metadata": {
        "id": "J34q3HkQbL8O",
        "colab_type": "code",
        "outputId": "653bb28e-4875-4545-cb0b-733c9dd72acb",
        "colab": {
          "base_uri": "https://localhost:8080/",
          "height": 34
        }
      },
      "source": [
        "l[1:3] # From element 1 included, to element 3 excluded"
      ],
      "execution_count": 0,
      "outputs": [
        {
          "output_type": "execute_result",
          "data": {
            "text/plain": [
              "['dog', 'bird']"
            ]
          },
          "metadata": {
            "tags": []
          },
          "execution_count": 19
        }
      ]
    },
    {
      "cell_type": "markdown",
      "metadata": {
        "id": "3rAUbkl8W3Cc",
        "colab_type": "text"
      },
      "source": [
        "If you use negative numbers, they count backwards from the end of the list.  It's weird, but very useful."
      ]
    },
    {
      "cell_type": "code",
      "metadata": {
        "id": "NWjv2RR6bR7D",
        "colab_type": "code",
        "outputId": "61d257a4-3029-4153-8ed6-34c18b283689",
        "colab": {
          "base_uri": "https://localhost:8080/",
          "height": 34
        }
      },
      "source": [
        "l[-1] # This is the last element"
      ],
      "execution_count": 0,
      "outputs": [
        {
          "output_type": "execute_result",
          "data": {
            "text/plain": [
              "'fly'"
            ]
          },
          "metadata": {
            "tags": []
          },
          "execution_count": 20
        }
      ]
    },
    {
      "cell_type": "code",
      "metadata": {
        "id": "ai9qdyanbbxc",
        "colab_type": "code",
        "outputId": "8d356f54-2d2e-48bf-e1e1-40d637f9cfb3",
        "colab": {
          "base_uri": "https://localhost:8080/",
          "height": 34
        }
      },
      "source": [
        "l[-2:] # From the penultimate onwards, so the last two."
      ],
      "execution_count": 0,
      "outputs": [
        {
          "output_type": "execute_result",
          "data": {
            "text/plain": [
              "['ant', 'fly']"
            ]
          },
          "metadata": {
            "tags": []
          },
          "execution_count": 21
        }
      ]
    },
    {
      "cell_type": "markdown",
      "metadata": {
        "id": "ODA2DJ5ZW8lF",
        "colab_type": "text"
      },
      "source": [
        "One particularly nice thing about slicing is that it never generates errors.  If there's not enough of the list to slice it the way you want, you will simply get a smaller slice (of course, this means that the size of the resulting slice is not guaranteed)."
      ]
    },
    {
      "cell_type": "code",
      "metadata": {
        "id": "MzpoBL7kS9sM",
        "colab_type": "code",
        "outputId": "9aac7c14-cded-4412-be2b-fd633572d52a",
        "colab": {
          "base_uri": "https://localhost:8080/",
          "height": 34
        }
      },
      "source": [
        "l = ['a', 'b', 'c', 'd', 'e', 'f']\n",
        "l[1000:]"
      ],
      "execution_count": 0,
      "outputs": [
        {
          "output_type": "execute_result",
          "data": {
            "text/plain": [
              "[]"
            ]
          },
          "metadata": {
            "tags": []
          },
          "execution_count": 22
        }
      ]
    },
    {
      "cell_type": "markdown",
      "metadata": {
        "id": "UXWZcEY0XC1E",
        "colab_type": "text"
      },
      "source": [
        "On the other hand, this does not work:\n"
      ]
    },
    {
      "cell_type": "code",
      "metadata": {
        "id": "NvUvIe4nTiFo",
        "colab_type": "code",
        "outputId": "772477d8-c8f6-491f-e71c-ec25c27c486c",
        "colab": {
          "base_uri": "https://localhost:8080/",
          "height": 165
        }
      },
      "source": [
        "l[1000]"
      ],
      "execution_count": 0,
      "outputs": [
        {
          "output_type": "error",
          "ename": "IndexError",
          "evalue": "ignored",
          "traceback": [
            "\u001b[0;31m---------------------------------------------------------------------------\u001b[0m",
            "\u001b[0;31mIndexError\u001b[0m                                Traceback (most recent call last)",
            "\u001b[0;32m<ipython-input-23-eb8acdcea208>\u001b[0m in \u001b[0;36m<module>\u001b[0;34m()\u001b[0m\n\u001b[0;32m----> 1\u001b[0;31m \u001b[0ml\u001b[0m\u001b[0;34m[\u001b[0m\u001b[0;36m1000\u001b[0m\u001b[0;34m]\u001b[0m\u001b[0;34m\u001b[0m\u001b[0;34m\u001b[0m\u001b[0m\n\u001b[0m",
            "\u001b[0;31mIndexError\u001b[0m: list index out of range"
          ]
        }
      ]
    },
    {
      "cell_type": "markdown",
      "metadata": {
        "id": "Zb4bybUiS3qz",
        "colab_type": "text"
      },
      "source": [
        "### List operations"
      ]
    },
    {
      "cell_type": "markdown",
      "metadata": {
        "id": "LGS4VkePXJ68",
        "colab_type": "text"
      },
      "source": [
        "You append an element to a list like so:"
      ]
    },
    {
      "cell_type": "code",
      "metadata": {
        "id": "oHfOp8ZHbvby",
        "colab_type": "code",
        "outputId": "c0c5ade1-194d-4e0b-8326-91f56a4f8de1",
        "colab": {
          "base_uri": "https://localhost:8080/",
          "height": 34
        }
      },
      "source": [
        "l.append('spider')\n",
        "l"
      ],
      "execution_count": 0,
      "outputs": [
        {
          "output_type": "execute_result",
          "data": {
            "text/plain": [
              "['a', 'b', 'c', 'd', 'e', 'f', 'spider']"
            ]
          },
          "metadata": {
            "tags": []
          },
          "execution_count": 24
        }
      ]
    },
    {
      "cell_type": "markdown",
      "metadata": {
        "id": "xtj1NhUxXNei",
        "colab_type": "text"
      },
      "source": [
        "You can append two lists using `+`."
      ]
    },
    {
      "cell_type": "code",
      "metadata": {
        "id": "QR9hG_KTb4ZK",
        "colab_type": "code",
        "outputId": "753687a8-34aa-4c9a-94fc-3f2ae370bbe2",
        "colab": {
          "base_uri": "https://localhost:8080/",
          "height": 34
        }
      },
      "source": [
        "l + [1, 2, 3]"
      ],
      "execution_count": 0,
      "outputs": [
        {
          "output_type": "execute_result",
          "data": {
            "text/plain": [
              "['a', 'b', 'c', 'd', 'e', 'f', 'spider', 1, 2, 3]"
            ]
          },
          "metadata": {
            "tags": []
          },
          "execution_count": 25
        }
      ]
    },
    {
      "cell_type": "markdown",
      "metadata": {
        "id": "hWjpPoEhXS1g",
        "colab_type": "text"
      },
      "source": [
        "And as you can see from above, in Python the elements of a list don't have to be all of the same type (but of course, you better know what you are doing if you are mixing types: for instance, if you try to increment all list elements by 1 forgetting that you have non-numeric types in it, you would get an error)."
      ]
    },
    {
      "cell_type": "markdown",
      "metadata": {
        "id": "43shd0WjXimo",
        "colab_type": "text"
      },
      "source": [
        "There are many more list operations.  For instance:\n",
        "\n",
        "You can 'pop' (retrieve, and remove) an element in any position:"
      ]
    },
    {
      "cell_type": "code",
      "metadata": {
        "id": "17usDLW8YEgg",
        "colab_type": "code",
        "outputId": "efd8842a-c792-4056-cbc8-1049d4857b0f",
        "colab": {
          "base_uri": "https://localhost:8080/",
          "height": 34
        }
      },
      "source": [
        "x = l.pop(3)\n",
        "x"
      ],
      "execution_count": 0,
      "outputs": [
        {
          "output_type": "execute_result",
          "data": {
            "text/plain": [
              "'spider'"
            ]
          },
          "metadata": {
            "tags": []
          },
          "execution_count": 29
        }
      ]
    },
    {
      "cell_type": "code",
      "metadata": {
        "id": "ky81YKRhk99i",
        "colab_type": "code",
        "outputId": "47caebf8-4027-4341-a059-a57dc873e8a3",
        "colab": {
          "base_uri": "https://localhost:8080/",
          "height": 34
        }
      },
      "source": [
        "l"
      ],
      "execution_count": 0,
      "outputs": [
        {
          "output_type": "execute_result",
          "data": {
            "text/plain": [
              "['a', 'b', 'c']"
            ]
          },
          "metadata": {
            "tags": []
          },
          "execution_count": 30
        }
      ]
    },
    {
      "cell_type": "markdown",
      "metadata": {
        "id": "c21B4J9bXpcQ",
        "colab_type": "text"
      },
      "source": [
        "You can obtain the reverse of a list:\n"
      ]
    },
    {
      "cell_type": "code",
      "metadata": {
        "id": "g0LQEbSWYYRM",
        "colab_type": "code",
        "outputId": "65840f5f-42bf-46ee-c580-e55d1b48a0ed",
        "colab": {
          "base_uri": "https://localhost:8080/",
          "height": 34
        }
      },
      "source": [
        "l.reverse()\n",
        "l"
      ],
      "execution_count": 0,
      "outputs": [
        {
          "output_type": "execute_result",
          "data": {
            "text/plain": [
              "['c', 'b', 'a']"
            ]
          },
          "metadata": {
            "tags": []
          },
          "execution_count": 31
        }
      ]
    },
    {
      "cell_type": "markdown",
      "metadata": {
        "id": "38N4b_EtXyfu",
        "colab_type": "text"
      },
      "source": [
        "And you can sort a list (the `sort` command has options; see the Python documentation):"
      ]
    },
    {
      "cell_type": "code",
      "metadata": {
        "id": "Z5HupjJwY9dD",
        "colab_type": "code",
        "outputId": "7aca8223-dc28-47d5-999e-ee59c9046302",
        "colab": {
          "base_uri": "https://localhost:8080/",
          "height": 34
        }
      },
      "source": [
        "l = l + ['cat']\n",
        "l.sort()\n",
        "l"
      ],
      "execution_count": 0,
      "outputs": [
        {
          "output_type": "execute_result",
          "data": {
            "text/plain": [
              "['a', 'b', 'c', 'cat']"
            ]
          },
          "metadata": {
            "tags": []
          },
          "execution_count": 32
        }
      ]
    },
    {
      "cell_type": "markdown",
      "metadata": {
        "id": "CKU3c1DoX32y",
        "colab_type": "text"
      },
      "source": [
        "Let's look at a way to apply an operation to all elements of a list.\n",
        "\n",
        "First, let's see how to capitalize a string."
      ]
    },
    {
      "cell_type": "code",
      "metadata": {
        "id": "qX3ZXVoYcXt8",
        "colab_type": "code",
        "outputId": "297ec0ad-f9c8-420a-bd26-d530caf54b29",
        "colab": {
          "base_uri": "https://localhost:8080/",
          "height": 34
        }
      },
      "source": [
        "\"dog\".capitalize()"
      ],
      "execution_count": 0,
      "outputs": [
        {
          "output_type": "execute_result",
          "data": {
            "text/plain": [
              "'Dog'"
            ]
          },
          "metadata": {
            "tags": []
          },
          "execution_count": 33
        }
      ]
    },
    {
      "cell_type": "markdown",
      "metadata": {
        "id": "O0lBksxhGi-u",
        "colab_type": "text"
      },
      "source": [
        "Now I want to get a list like `l`, except with each string capitalized.  For this, I can use a Python feature called a _list comprehension_, which is written with square brackets (`[...]`).  The list comprehension iterates over the list `l` using `for s in l`, and for each element `s` in `l`, it produces something that goes into the result."
      ]
    },
    {
      "cell_type": "code",
      "metadata": {
        "id": "6I0VvbnWdLcW",
        "colab_type": "code",
        "outputId": "93dfe764-05ab-42bf-e1e7-1a84202abd58",
        "colab": {
          "base_uri": "https://localhost:8080/",
          "height": 34
        }
      },
      "source": [
        "l_capitalized = [s.capitalize() for s in l]\n",
        "l_capitalized"
      ],
      "execution_count": 0,
      "outputs": [
        {
          "output_type": "execute_result",
          "data": {
            "text/plain": [
              "['A', 'B', 'C', 'Cat']"
            ]
          },
          "metadata": {
            "tags": []
          },
          "execution_count": 34
        }
      ]
    },
    {
      "cell_type": "markdown",
      "metadata": {
        "id": "KTbIVPGHG554",
        "colab_type": "text"
      },
      "source": [
        "I can even add an `if` condition to a list comprehension."
      ]
    },
    {
      "cell_type": "code",
      "metadata": {
        "id": "anVSvv20FT3W",
        "colab_type": "code",
        "outputId": "cececcd0-02ce-4bab-abc9-e38271ea3532",
        "colab": {
          "base_uri": "https://localhost:8080/",
          "height": 34
        }
      },
      "source": [
        "[s.capitalize() for s in l if s.startswith(\"c\")]"
      ],
      "execution_count": 0,
      "outputs": [
        {
          "output_type": "execute_result",
          "data": {
            "text/plain": [
              "['C', 'Cat']"
            ]
          },
          "metadata": {
            "tags": []
          },
          "execution_count": 35
        }
      ]
    },
    {
      "cell_type": "markdown",
      "metadata": {
        "id": "m1TNJQiGH76k",
        "colab_type": "text"
      },
      "source": [
        "Or I could put the condition in a different place and add an `else` branch for a different result."
      ]
    },
    {
      "cell_type": "code",
      "metadata": {
        "colab_type": "code",
        "id": "Z25r6qefHJFu",
        "outputId": "a7b23451-461a-4c26-cfe3-3f9b87e6dcf3",
        "colab": {
          "base_uri": "https://localhost:8080/",
          "height": 34
        }
      },
      "source": [
        "[s.capitalize() if s.startswith(\"c\") else s for s in l]"
      ],
      "execution_count": 0,
      "outputs": [
        {
          "output_type": "execute_result",
          "data": {
            "text/plain": [
              "['a', 'b', 'C', 'Cat']"
            ]
          },
          "metadata": {
            "tags": []
          },
          "execution_count": 36
        }
      ]
    },
    {
      "cell_type": "markdown",
      "metadata": {
        "id": "93OBBB31Kd-G",
        "colab_type": "text"
      },
      "source": [
        "You can get the length of a string, or a list, with the `len()` operator."
      ]
    },
    {
      "cell_type": "code",
      "metadata": {
        "id": "uPz_gWlHemaf",
        "colab_type": "code",
        "outputId": "a49c58c2-0d23-496d-a3cd-9c886b36d641",
        "colab": {
          "base_uri": "https://localhost:8080/",
          "height": 34
        }
      },
      "source": [
        "len(l)"
      ],
      "execution_count": 0,
      "outputs": [
        {
          "output_type": "execute_result",
          "data": {
            "text/plain": [
              "4"
            ]
          },
          "metadata": {
            "tags": []
          },
          "execution_count": 37
        }
      ]
    },
    {
      "cell_type": "code",
      "metadata": {
        "id": "byKYGSPPlYrT",
        "colab_type": "code",
        "outputId": "29229842-6b0a-4ddd-efa2-fdf9509f571c",
        "colab": {
          "base_uri": "https://localhost:8080/",
          "height": 34
        }
      },
      "source": [
        "len(l_capitalized)"
      ],
      "execution_count": 0,
      "outputs": [
        {
          "output_type": "execute_result",
          "data": {
            "text/plain": [
              "4"
            ]
          },
          "metadata": {
            "tags": []
          },
          "execution_count": 38
        }
      ]
    },
    {
      "cell_type": "code",
      "metadata": {
        "id": "KnYu842dlZDW",
        "colab_type": "code",
        "outputId": "c3e91d88-f528-4bd7-c945-c5aca0d18dda",
        "colab": {
          "base_uri": "https://localhost:8080/",
          "height": 34
        }
      },
      "source": [
        "[len(s) for s in l]"
      ],
      "execution_count": 0,
      "outputs": [
        {
          "output_type": "execute_result",
          "data": {
            "text/plain": [
              "[1, 1, 1, 3]"
            ]
          },
          "metadata": {
            "tags": []
          },
          "execution_count": 39
        }
      ]
    },
    {
      "cell_type": "markdown",
      "metadata": {
        "id": "P7-9n_PTeZEk",
        "colab_type": "text"
      },
      "source": [
        "See https://docs.python.org/3.8/tutorial/datastructures.html for more things you can do with lists."
      ]
    },
    {
      "cell_type": "code",
      "metadata": {
        "id": "laldq4sBXnFA",
        "colab_type": "code",
        "outputId": "46b84d79-b39c-4a2a-961a-84025f5697be",
        "colab": {
          "base_uri": "https://localhost:8080/",
          "height": 52
        }
      },
      "source": [
        "mylist = [1, 2, 3, 4]\n",
        "print(mylist)\n",
        "mylist[0] = \"cat\"\n",
        "print(mylist)"
      ],
      "execution_count": 0,
      "outputs": [
        {
          "output_type": "stream",
          "text": [
            "[1, 2, 3, 4]\n",
            "['cat', 2, 3, 4]\n"
          ],
          "name": "stdout"
        }
      ]
    },
    {
      "cell_type": "markdown",
      "metadata": {
        "id": "At7-_WM6bn6A",
        "colab_type": "text"
      },
      "source": [
        "### Tuples"
      ]
    },
    {
      "cell_type": "markdown",
      "metadata": {
        "id": "Mq-_TeTmYtjI",
        "colab_type": "text"
      },
      "source": [
        "Tuples are kind of like lists, except they are immutable.\n",
        "\n",
        "Here's a way to represent two points in 2-D:"
      ]
    },
    {
      "cell_type": "code",
      "metadata": {
        "id": "7oy34EaEbrjC",
        "colab_type": "code",
        "outputId": "3c5ff6fe-4a8a-4784-e1a9-08f426f73a56",
        "colab": {
          "base_uri": "https://localhost:8080/",
          "height": 34
        }
      },
      "source": [
        "p1 = (1., 2.)\n",
        "p2 = (3.1, 3.2)\n",
        "p1"
      ],
      "execution_count": 0,
      "outputs": [
        {
          "output_type": "execute_result",
          "data": {
            "text/plain": [
              "(1.0, 2.0)"
            ]
          },
          "metadata": {
            "tags": []
          },
          "execution_count": 49
        }
      ]
    },
    {
      "cell_type": "markdown",
      "metadata": {
        "id": "OaFZZq24Y6LN",
        "colab_type": "text"
      },
      "source": [
        "Tuples are easy to take apart.  Whereas a Python beginner might write"
      ]
    },
    {
      "cell_type": "code",
      "metadata": {
        "colab_type": "code",
        "id": "QcIxh48XY3YM",
        "outputId": "ad061364-2b08-4ffc-e8e9-8a55514c5a4c",
        "colab": {
          "base_uri": "https://localhost:8080/",
          "height": 34
        }
      },
      "source": [
        "x = p1[0]\n",
        "y = p1[1]\n",
        "x, y"
      ],
      "execution_count": 0,
      "outputs": [
        {
          "output_type": "execute_result",
          "data": {
            "text/plain": [
              "(1.0, 2.0)"
            ]
          },
          "metadata": {
            "tags": []
          },
          "execution_count": 50
        }
      ]
    },
    {
      "cell_type": "markdown",
      "metadata": {
        "id": "hmt50SJAZLNM",
        "colab_type": "text"
      },
      "source": [
        "anyone with a bit of Python experience would instead write:"
      ]
    },
    {
      "cell_type": "code",
      "metadata": {
        "id": "0gfdrkwrfdho",
        "colab_type": "code",
        "outputId": "4ce2889a-a765-4801-d6e6-1f729ae27213",
        "colab": {
          "base_uri": "https://localhost:8080/",
          "height": 34
        }
      },
      "source": [
        "x, y = p1\n",
        "x, y"
      ],
      "execution_count": 0,
      "outputs": [
        {
          "output_type": "execute_result",
          "data": {
            "text/plain": [
              "(1.0, 2.0)"
            ]
          },
          "metadata": {
            "tags": []
          },
          "execution_count": 51
        }
      ]
    },
    {
      "cell_type": "markdown",
      "metadata": {
        "id": "gjD44veqZQdl",
        "colab_type": "text"
      },
      "source": [
        "This \"unpacks\" the values in the tuple `p1` into the variables `x` and `y`.\n",
        "\n",
        "\n",
        "Of course, the above works only if the tuple of variables on the left-hand side is the same length as the tuple on the right-hand side!"
      ]
    },
    {
      "cell_type": "code",
      "metadata": {
        "id": "W4loQJ6eflCt",
        "colab_type": "code",
        "outputId": "0a4ddd9d-bd61-4a98-ecd4-bdf8a6408b59",
        "colab": {
          "base_uri": "https://localhost:8080/",
          "height": 165
        }
      },
      "source": [
        "x, y, z = p2\n"
      ],
      "execution_count": 0,
      "outputs": [
        {
          "output_type": "error",
          "ename": "ValueError",
          "evalue": "ignored",
          "traceback": [
            "\u001b[0;31m---------------------------------------------------------------------------\u001b[0m",
            "\u001b[0;31mValueError\u001b[0m                                Traceback (most recent call last)",
            "\u001b[0;32m<ipython-input-52-890229d89ce4>\u001b[0m in \u001b[0;36m<module>\u001b[0;34m()\u001b[0m\n\u001b[0;32m----> 1\u001b[0;31m \u001b[0mx\u001b[0m\u001b[0;34m,\u001b[0m \u001b[0my\u001b[0m\u001b[0;34m,\u001b[0m \u001b[0mz\u001b[0m \u001b[0;34m=\u001b[0m \u001b[0mp2\u001b[0m\u001b[0;34m\u001b[0m\u001b[0;34m\u001b[0m\u001b[0m\n\u001b[0m",
            "\u001b[0;31mValueError\u001b[0m: not enough values to unpack (expected 3, got 2)"
          ]
        }
      ]
    },
    {
      "cell_type": "markdown",
      "metadata": {
        "id": "c4RumOKTZai5",
        "colab_type": "text"
      },
      "source": [
        "If you don't care about a component of a tuple, you can just use `_` (underscore) when unpacking."
      ]
    },
    {
      "cell_type": "code",
      "metadata": {
        "id": "K9VOU24Xfw9G",
        "colab_type": "code",
        "outputId": "d2034235-4944-48d4-b912-668f60d9d189",
        "colab": {
          "base_uri": "https://localhost:8080/",
          "height": 34
        }
      },
      "source": [
        "x, _ = p1\n",
        "x"
      ],
      "execution_count": 0,
      "outputs": [
        {
          "output_type": "execute_result",
          "data": {
            "text/plain": [
              "1.0"
            ]
          },
          "metadata": {
            "tags": []
          },
          "execution_count": 53
        }
      ]
    },
    {
      "cell_type": "markdown",
      "metadata": {
        "id": "xFAS-L5uZtff",
        "colab_type": "text"
      },
      "source": [
        "## Strings"
      ]
    },
    {
      "cell_type": "markdown",
      "metadata": {
        "id": "XYnunpmRbgGg",
        "colab_type": "text"
      },
      "source": [
        "As mentioned above, strings can be built using either `'` or `\"` as delimiters.  If you use `'`, the string can contain `\"` inside, and vice versa.\n"
      ]
    },
    {
      "cell_type": "code",
      "metadata": {
        "id": "2zNELDI6Y4bi",
        "colab_type": "code",
        "colab": {}
      },
      "source": [
        "s = 'A string'\n",
        "t = \"It's nice to be able to choose the delimiters\"\n",
        "u = 'She said \"Hello!\"'"
      ],
      "execution_count": 0,
      "outputs": []
    },
    {
      "cell_type": "markdown",
      "metadata": {
        "id": "3B2gh_e0cNUT",
        "colab_type": "text"
      },
      "source": [
        "You can use `+` to concatenate strings:"
      ]
    },
    {
      "cell_type": "code",
      "metadata": {
        "id": "xVCjndNn9N2f",
        "colab_type": "code",
        "outputId": "95a7646a-d63a-4adc-92ce-f1937de55eed",
        "colab": {
          "base_uri": "https://localhost:8080/",
          "height": 34
        }
      },
      "source": [
        "s + \" \" + t"
      ],
      "execution_count": 0,
      "outputs": [
        {
          "output_type": "execute_result",
          "data": {
            "text/plain": [
              "\"A string It's nice to be able to choose the delimiters\""
            ]
          },
          "metadata": {
            "tags": []
          },
          "execution_count": 55
        }
      ]
    },
    {
      "cell_type": "markdown",
      "metadata": {
        "id": "r4xOyUSQcXxn",
        "colab_type": "text"
      },
      "source": [
        "You can split a string according to spaces:"
      ]
    },
    {
      "cell_type": "code",
      "metadata": {
        "id": "h0vkoGrTZir7",
        "colab_type": "code",
        "outputId": "d06cf189-08c2-4ab8-9900-449c8e38a1b7",
        "colab": {
          "base_uri": "https://localhost:8080/",
          "height": 34
        }
      },
      "source": [
        "l = t.split()\n",
        "l"
      ],
      "execution_count": 0,
      "outputs": [
        {
          "output_type": "execute_result",
          "data": {
            "text/plain": [
              "[\"It's\", 'nice', 'to', 'be', 'able', 'to', 'choose', 'the', 'delimiters']"
            ]
          },
          "metadata": {
            "tags": []
          },
          "execution_count": 56
        }
      ]
    },
    {
      "cell_type": "markdown",
      "metadata": {
        "id": "LU60ow4jcpER",
        "colab_type": "text"
      },
      "source": [
        "Or you can split it according to any character:"
      ]
    },
    {
      "cell_type": "code",
      "metadata": {
        "id": "uKE_8q0sZnvr",
        "colab_type": "code",
        "outputId": "da953c7e-aa27-4f11-8434-23315f35790b",
        "colab": {
          "base_uri": "https://localhost:8080/",
          "height": 34
        }
      },
      "source": [
        "t.split('a')"
      ],
      "execution_count": 0,
      "outputs": [
        {
          "output_type": "execute_result",
          "data": {
            "text/plain": [
              "[\"It's nice to be \", 'ble to choose the delimiters']"
            ]
          },
          "metadata": {
            "tags": []
          },
          "execution_count": 57
        }
      ]
    },
    {
      "cell_type": "markdown",
      "metadata": {
        "id": "HpPxlCiDcxir",
        "colab_type": "text"
      },
      "source": [
        "You can also put back a string you have split, using `.join()`. Yes, it's weird; had I invented the `.join` operation, I would have defined it as an operation on lists (rather than strings), so that one would write `l.join(' ')` rather than `' '.join(l)`.  But once you learn it, you get used to it."
      ]
    },
    {
      "cell_type": "code",
      "metadata": {
        "id": "eXtxIMy4E7v2",
        "colab_type": "code",
        "outputId": "d0e3e291-5fbc-40f3-c2e4-dbcf269447ef",
        "colab": {
          "base_uri": "https://localhost:8080/",
          "height": 34
        }
      },
      "source": [
        "' '.join(l)"
      ],
      "execution_count": 0,
      "outputs": [
        {
          "output_type": "execute_result",
          "data": {
            "text/plain": [
              "\"It's nice to be able to choose the delimiters\""
            ]
          },
          "metadata": {
            "tags": []
          },
          "execution_count": 58
        }
      ]
    },
    {
      "cell_type": "markdown",
      "metadata": {
        "id": "BipmuILIdT89",
        "colab_type": "text"
      },
      "source": [
        "A string can also be addressed as if it were a list of its characters, using indexing and slicing:"
      ]
    },
    {
      "cell_type": "code",
      "metadata": {
        "id": "dJ5gjcRHgnPh",
        "colab_type": "code",
        "outputId": "dd813ce4-617c-4333-dc79-df6ac2200ed7",
        "colab": {
          "base_uri": "https://localhost:8080/",
          "height": 34
        }
      },
      "source": [
        "t[10:]"
      ],
      "execution_count": 0,
      "outputs": [
        {
          "output_type": "execute_result",
          "data": {
            "text/plain": [
              "'to be able to choose the delimiters'"
            ]
          },
          "metadata": {
            "tags": []
          },
          "execution_count": 59
        }
      ]
    },
    {
      "cell_type": "markdown",
      "metadata": {
        "id": "dfkOM18q-rX0",
        "colab_type": "text"
      },
      "source": [
        "### Unicode and bytes"
      ]
    },
    {
      "cell_type": "markdown",
      "metadata": {
        "id": "ZScSRV1c5CI7",
        "colab_type": "text"
      },
      "source": [
        "Strings in Python 3 are not merely sequences of bytes.  A byte would be able to encode only one of 256 characters, and there are many more than 256 characters in the world's languages.  So that people can write in their native languages (among many other reasons), Python 3 uses Unicode strings.\n"
      ]
    },
    {
      "cell_type": "code",
      "metadata": {
        "id": "WV8XJG5t-uzR",
        "colab_type": "code",
        "outputId": "ad51cb7c-412d-4e9b-8f18-ac86ce5aaf3c",
        "colab": {
          "base_uri": "https://localhost:8080/",
          "height": 34
        }
      },
      "source": [
        "s = \"Ouvrez la fenêtre, s'il vous plaît\"\n",
        "s"
      ],
      "execution_count": 0,
      "outputs": [
        {
          "output_type": "execute_result",
          "data": {
            "text/plain": [
              "\"Ouvrez la fenêtre, s'il vous plaît\""
            ]
          },
          "metadata": {
            "tags": []
          },
          "execution_count": 60
        }
      ]
    },
    {
      "cell_type": "code",
      "metadata": {
        "id": "e8x1wcHDl_sc",
        "colab_type": "code",
        "outputId": "888357eb-ea7a-4d1b-ffab-075058488c17",
        "colab": {
          "base_uri": "https://localhost:8080/",
          "height": 34
        }
      },
      "source": [
        "type(s)"
      ],
      "execution_count": 0,
      "outputs": [
        {
          "output_type": "execute_result",
          "data": {
            "text/plain": [
              "str"
            ]
          },
          "metadata": {
            "tags": []
          },
          "execution_count": 61
        }
      ]
    },
    {
      "cell_type": "markdown",
      "metadata": {
        "id": "AvqEIjY85OtM",
        "colab_type": "text"
      },
      "source": [
        "If you have a Unicode string, you can \"encode\" its non-ASCII characters into a byte sequence, that is, a (non-Unicode) string.  Let's try it: "
      ]
    },
    {
      "cell_type": "code",
      "metadata": {
        "id": "xt2ZDsr8Bd5n",
        "colab_type": "code",
        "outputId": "bba7f93e-33e6-437e-976f-fad0c968d2eb",
        "colab": {
          "base_uri": "https://localhost:8080/",
          "height": 34
        }
      },
      "source": [
        "some_bytes = s.encode('utf8')\n",
        "type(some_bytes)"
      ],
      "execution_count": 0,
      "outputs": [
        {
          "output_type": "execute_result",
          "data": {
            "text/plain": [
              "bytes"
            ]
          },
          "metadata": {
            "tags": []
          },
          "execution_count": 62
        }
      ]
    },
    {
      "cell_type": "markdown",
      "metadata": {
        "id": "uS-M7Hc15e2m",
        "colab_type": "text"
      },
      "source": [
        "The `utf8` above specifies the *encoding*, that is, the way in which the non-ASCII characters are encoded into bytes.  We will talk more about this later; for now, let's see what happened:"
      ]
    },
    {
      "cell_type": "code",
      "metadata": {
        "id": "9ZM6mNvZBx-S",
        "colab_type": "code",
        "outputId": "f8bd21bb-3e33-4263-94c9-57320a45bd16",
        "colab": {
          "base_uri": "https://localhost:8080/",
          "height": 34
        }
      },
      "source": [
        "some_bytes"
      ],
      "execution_count": 0,
      "outputs": [
        {
          "output_type": "execute_result",
          "data": {
            "text/plain": [
              "b\"Ouvrez la fen\\xc3\\xaatre, s'il vous pla\\xc3\\xaet\""
            ]
          },
          "metadata": {
            "tags": []
          },
          "execution_count": 63
        }
      ]
    },
    {
      "cell_type": "markdown",
      "metadata": {
        "id": "eLKIjisT5_gu",
        "colab_type": "text"
      },
      "source": [
        "Here, `\\xc3\\xaa` is the byte encoding of `ê`, and `\\xc3\\xa` is the byte encoding of `î`.  You can go back from byte sequences (denoted by the little `b` at the front) to Unicode strings:"
      ]
    },
    {
      "cell_type": "code",
      "metadata": {
        "id": "TZ5yC_4ZB_Nb",
        "colab_type": "code",
        "outputId": "3bf7af63-a90d-45d6-fd73-2e40606eddd1",
        "colab": {
          "base_uri": "https://localhost:8080/",
          "height": 34
        }
      },
      "source": [
        "ut = some_bytes.decode('utf8')\n",
        "ut"
      ],
      "execution_count": 0,
      "outputs": [
        {
          "output_type": "execute_result",
          "data": {
            "text/plain": [
              "\"Ouvrez la fenêtre, s'il vous plaît\""
            ]
          },
          "metadata": {
            "tags": []
          },
          "execution_count": 64
        }
      ]
    },
    {
      "cell_type": "markdown",
      "metadata": {
        "id": "JZDt5Ybr7hhU",
        "colab_type": "text"
      },
      "source": [
        "So basically, the same thing has two representations: one in \"plain\" Unicode, and one in encoded form as a byte sequence.  If you know the sequence of bytes for a Unicode character, you can build a byte sequence and decode it to get the character in a Unicode string:"
      ]
    },
    {
      "cell_type": "code",
      "metadata": {
        "id": "5USQplRkCu2I",
        "colab_type": "code",
        "outputId": "58a0b161-9c58-4de7-bedf-f5e3d188c1a4",
        "colab": {
          "base_uri": "https://localhost:8080/",
          "height": 34
        }
      },
      "source": [
        "more_bytes = b\"Sleep well \\xe2\\x9d\\xa4\"\n",
        "more_bytes.decode('utf8')"
      ],
      "execution_count": 0,
      "outputs": [
        {
          "output_type": "execute_result",
          "data": {
            "text/plain": [
              "'Sleep well ❤'"
            ]
          },
          "metadata": {
            "tags": []
          },
          "execution_count": 65
        }
      ]
    },
    {
      "cell_type": "markdown",
      "metadata": {
        "id": "bbTajK4D7zfM",
        "colab_type": "text"
      },
      "source": [
        "The ❤ was obtained by decoding the hexadecimal sequence of bytes e2, 9d, a4 into the graphical symbol corresponding to that sequence, which happens to be a heart.\n",
        "\n",
        "What is that `'utf8'` in the call to `decode` above?  It can be thought of as a table of correspondence between byte sequences and symbols, associating in this case the ❤ with the byte sequence e2, 9d, a4.  The reason we have to specify it is because there is more than one table of correspondence, and which one we use matters:"
      ]
    },
    {
      "cell_type": "code",
      "metadata": {
        "id": "29S2Yf4tG7k7",
        "colab_type": "code",
        "outputId": "a78a3f49-bc46-4cf6-fe48-9f70688ef6cb",
        "colab": {
          "base_uri": "https://localhost:8080/",
          "height": 34
        }
      },
      "source": [
        "s.encode('utf-8')"
      ],
      "execution_count": 0,
      "outputs": [
        {
          "output_type": "execute_result",
          "data": {
            "text/plain": [
              "b\"Ouvrez la fen\\xc3\\xaatre, s'il vous pla\\xc3\\xaet\""
            ]
          },
          "metadata": {
            "tags": []
          },
          "execution_count": 66
        }
      ]
    },
    {
      "cell_type": "code",
      "metadata": {
        "id": "Md932EH59pMj",
        "colab_type": "code",
        "outputId": "2bf1bc25-fda6-4f8c-f6e6-fb53e7944150",
        "colab": {
          "base_uri": "https://localhost:8080/",
          "height": 34
        }
      },
      "source": [
        "s.encode('iso-8859-1')"
      ],
      "execution_count": 0,
      "outputs": [
        {
          "output_type": "execute_result",
          "data": {
            "text/plain": [
              "b\"Ouvrez la fen\\xeatre, s'il vous pla\\xeet\""
            ]
          },
          "metadata": {
            "tags": []
          },
          "execution_count": 67
        }
      ]
    },
    {
      "cell_type": "markdown",
      "metadata": {
        "id": "1zqeMAvs-HXT",
        "colab_type": "text"
      },
      "source": [
        "If you have some text encoded using one encoding and you try to decode it using a different one, bad things can happen: "
      ]
    },
    {
      "cell_type": "code",
      "metadata": {
        "id": "SrJpbpVE9HXn",
        "colab_type": "code",
        "outputId": "dab6986b-3cc1-4be7-c7f9-c6d931299f4f",
        "colab": {
          "base_uri": "https://localhost:8080/",
          "height": 182
        }
      },
      "source": [
        "some_other_bytes = s.encode('iso-8859-1')\n",
        "some_other_bytes.decode('utf-8')"
      ],
      "execution_count": 0,
      "outputs": [
        {
          "output_type": "error",
          "ename": "UnicodeDecodeError",
          "evalue": "ignored",
          "traceback": [
            "\u001b[0;31m---------------------------------------------------------------------------\u001b[0m",
            "\u001b[0;31mUnicodeDecodeError\u001b[0m                        Traceback (most recent call last)",
            "\u001b[0;32m<ipython-input-68-57d45baf63d0>\u001b[0m in \u001b[0;36m<module>\u001b[0;34m()\u001b[0m\n\u001b[1;32m      1\u001b[0m \u001b[0msome_other_bytes\u001b[0m \u001b[0;34m=\u001b[0m \u001b[0ms\u001b[0m\u001b[0;34m.\u001b[0m\u001b[0mencode\u001b[0m\u001b[0;34m(\u001b[0m\u001b[0;34m'iso-8859-1'\u001b[0m\u001b[0;34m)\u001b[0m\u001b[0;34m\u001b[0m\u001b[0;34m\u001b[0m\u001b[0m\n\u001b[0;32m----> 2\u001b[0;31m \u001b[0msome_other_bytes\u001b[0m\u001b[0;34m.\u001b[0m\u001b[0mdecode\u001b[0m\u001b[0;34m(\u001b[0m\u001b[0;34m'utf-8'\u001b[0m\u001b[0;34m)\u001b[0m\u001b[0;34m\u001b[0m\u001b[0;34m\u001b[0m\u001b[0m\n\u001b[0m",
            "\u001b[0;31mUnicodeDecodeError\u001b[0m: 'utf-8' codec can't decode byte 0xea in position 13: invalid continuation byte"
          ]
        }
      ]
    },
    {
      "cell_type": "markdown",
      "metadata": {
        "id": "YJL8JDeU-dbG",
        "colab_type": "text"
      },
      "source": [
        "So you need to know which encoding is used.  To make things worse, on the internet, when somebody sends you a message, they often don't tell you which encoding they are using, or they simply lie or get it wrong.  So the sad truth is that you typically hope that whoever sends you bytes (because bytes are all that can be sent over a wire) either uses utf-8, or tells you the encoding honestly.\n",
        "\n",
        "Oh, the default in Python is utf-8, so you can omit it in calls to `encode` and `decode`:"
      ]
    },
    {
      "cell_type": "code",
      "metadata": {
        "id": "czpDmZL-JkPF",
        "colab_type": "code",
        "outputId": "c5b7e61e-9f17-4c0c-9f04-f92ee8ac0421",
        "colab": {
          "base_uri": "https://localhost:8080/",
          "height": 34
        }
      },
      "source": [
        "some_bytes.decode()"
      ],
      "execution_count": 0,
      "outputs": [
        {
          "output_type": "execute_result",
          "data": {
            "text/plain": [
              "\"Ouvrez la fenêtre, s'il vous plaît\""
            ]
          },
          "metadata": {
            "tags": []
          },
          "execution_count": 69
        }
      ]
    },
    {
      "cell_type": "markdown",
      "metadata": {
        "id": "vC8nrCIjkg6f",
        "colab_type": "text"
      },
      "source": [
        "### More on bytes"
      ]
    },
    {
      "cell_type": "markdown",
      "metadata": {
        "id": "0TeqeOlg-_wD",
        "colab_type": "text"
      },
      "source": [
        "The implementation of bytes in Python 3 suffers from some truly unfortunate problems.  For instance, you can slice bytes just fine:\n"
      ]
    },
    {
      "cell_type": "code",
      "metadata": {
        "id": "gyCdehO3kpaq",
        "colab_type": "code",
        "outputId": "c0bf4628-8ee0-4588-deef-a984cb3e0e11",
        "colab": {
          "base_uri": "https://localhost:8080/",
          "height": 34
        }
      },
      "source": [
        "some_bytes[0:9]"
      ],
      "execution_count": 0,
      "outputs": [
        {
          "output_type": "execute_result",
          "data": {
            "text/plain": [
              "b'Ouvrez la'"
            ]
          },
          "metadata": {
            "tags": []
          },
          "execution_count": 73
        }
      ]
    },
    {
      "cell_type": "markdown",
      "metadata": {
        "id": "-RG2bYkF_J2d",
        "colab_type": "text"
      },
      "source": [
        "But if you ask for a single byte, you get -- surprise! -- an integer!\n"
      ]
    },
    {
      "cell_type": "code",
      "metadata": {
        "id": "Z-qLj0QllDiR",
        "colab_type": "code",
        "outputId": "e7582fa7-2bbd-4bf5-d5ad-2f9eb9be7339",
        "colab": {
          "base_uri": "https://localhost:8080/",
          "height": 34
        }
      },
      "source": [
        "some_bytes[8]"
      ],
      "execution_count": 0,
      "outputs": [
        {
          "output_type": "execute_result",
          "data": {
            "text/plain": [
              "97"
            ]
          },
          "metadata": {
            "tags": []
          },
          "execution_count": 71
        }
      ]
    },
    {
      "cell_type": "markdown",
      "metadata": {
        "id": "eTsVaCDM_Z6Y",
        "colab_type": "text"
      },
      "source": [
        "In no other case is the type of slice elements different from the type of individually-indexed elements."
      ]
    },
    {
      "cell_type": "markdown",
      "metadata": {
        "id": "IyTNBT8sh-UE",
        "colab_type": "text"
      },
      "source": [
        "## Dictionaries\n"
      ]
    },
    {
      "cell_type": "markdown",
      "metadata": {
        "id": "jGGwLLPU_0db",
        "colab_type": "text"
      },
      "source": [
        "Dictionaries in Python can be thought of as sets of key-value pairs, with the requirement that the keys are unique within a given dictionary. \n"
      ]
    },
    {
      "cell_type": "code",
      "metadata": {
        "id": "MQXjLViBgx7T",
        "colab_type": "code",
        "outputId": "c9355e22-bb71-42f6-d8f7-a97b8c6f01a5",
        "colab": {
          "base_uri": "https://localhost:8080/",
          "height": 34
        }
      },
      "source": [
        "n_of_paws = {'cat': 4, 'fish': 0, 'bird': 2, 'snake': 0,}\n",
        "n_of_paws['cat']"
      ],
      "execution_count": 0,
      "outputs": [
        {
          "output_type": "execute_result",
          "data": {
            "text/plain": [
              "4"
            ]
          },
          "metadata": {
            "tags": []
          },
          "execution_count": 74
        }
      ]
    },
    {
      "cell_type": "markdown",
      "metadata": {
        "id": "wNUrc9Dw_4zW",
        "colab_type": "text"
      },
      "source": [
        "Dictionaries can be indexed with `[]` notation like list indexing, except they are indexed by their keys, not by integers."
      ]
    },
    {
      "cell_type": "code",
      "metadata": {
        "id": "cQmzw2CwiTP-",
        "colab_type": "code",
        "outputId": "dada93ca-1e3b-407a-e8b2-768ae076958d",
        "colab": {
          "base_uri": "https://localhost:8080/",
          "height": 165
        }
      },
      "source": [
        "n_of_paws['antelope']"
      ],
      "execution_count": 0,
      "outputs": [
        {
          "output_type": "error",
          "ename": "KeyError",
          "evalue": "ignored",
          "traceback": [
            "\u001b[0;31m---------------------------------------------------------------------------\u001b[0m",
            "\u001b[0;31mKeyError\u001b[0m                                  Traceback (most recent call last)",
            "\u001b[0;32m<ipython-input-77-ee471643091d>\u001b[0m in \u001b[0;36m<module>\u001b[0;34m()\u001b[0m\n\u001b[0;32m----> 1\u001b[0;31m \u001b[0mn_of_paws\u001b[0m\u001b[0;34m[\u001b[0m\u001b[0;34m'antelope'\u001b[0m\u001b[0;34m]\u001b[0m\u001b[0;34m\u001b[0m\u001b[0;34m\u001b[0m\u001b[0m\n\u001b[0m",
            "\u001b[0;31mKeyError\u001b[0m: 'antelope'"
          ]
        }
      ]
    },
    {
      "cell_type": "markdown",
      "metadata": {
        "id": "_fRscweC_-AA",
        "colab_type": "text"
      },
      "source": [
        "You can also build a dictionary like this:\n"
      ]
    },
    {
      "cell_type": "code",
      "metadata": {
        "id": "conzHq0cxigR",
        "colab_type": "code",
        "outputId": "60ddb5d9-131d-4047-d53c-ad87d994791e",
        "colab": {
          "base_uri": "https://localhost:8080/",
          "height": 34
        }
      },
      "source": [
        "d = dict(dog=4, cat=4, bird=2, fish=0)\n",
        "d"
      ],
      "execution_count": 0,
      "outputs": [
        {
          "output_type": "execute_result",
          "data": {
            "text/plain": [
              "{'bird': 2, 'cat': 4, 'dog': 4, 'fish': 0}"
            ]
          },
          "metadata": {
            "tags": []
          },
          "execution_count": 76
        }
      ]
    },
    {
      "cell_type": "markdown",
      "metadata": {
        "id": "-EPvth3rACJ_",
        "colab_type": "text"
      },
      "source": [
        "If you are not sure whether a key is in the dictionary, you can use `.get()` rather than `[]`:\n"
      ]
    },
    {
      "cell_type": "code",
      "metadata": {
        "id": "BL4F480njCHe",
        "colab_type": "code",
        "outputId": "fd99b44f-a33d-40d2-da4a-a6504281a331",
        "colab": {
          "base_uri": "https://localhost:8080/",
          "height": 34
        }
      },
      "source": [
        "n_of_paws.get('fish')"
      ],
      "execution_count": 0,
      "outputs": [
        {
          "output_type": "execute_result",
          "data": {
            "text/plain": [
              "0"
            ]
          },
          "metadata": {
            "tags": []
          },
          "execution_count": 78
        }
      ]
    },
    {
      "cell_type": "code",
      "metadata": {
        "id": "Y1h2Zia-njVs",
        "colab_type": "code",
        "outputId": "2721b5ac-d6bb-445b-83cf-b9d9623faf8c",
        "colab": {
          "base_uri": "https://localhost:8080/",
          "height": 34
        }
      },
      "source": [
        "x = n_of_paws.get('elephant')\n",
        "print(x)"
      ],
      "execution_count": 0,
      "outputs": [
        {
          "output_type": "stream",
          "text": [
            "None\n"
          ],
          "name": "stdout"
        }
      ]
    },
    {
      "cell_type": "markdown",
      "metadata": {
        "id": "QXTM7o1BAJ2r",
        "colab_type": "text"
      },
      "source": [
        "You can check whether something is in a dictionary with the `in` operator:\n"
      ]
    },
    {
      "cell_type": "code",
      "metadata": {
        "id": "yFPoZI56i4w7",
        "colab_type": "code",
        "outputId": "228148a5-6bba-4617-e0aa-380250a80d70",
        "colab": {
          "base_uri": "https://localhost:8080/",
          "height": 34
        }
      },
      "source": [
        "\"elephant\" in n_of_paws\n"
      ],
      "execution_count": 0,
      "outputs": [
        {
          "output_type": "execute_result",
          "data": {
            "text/plain": [
              "False"
            ]
          },
          "metadata": {
            "tags": []
          },
          "execution_count": 82
        }
      ]
    },
    {
      "cell_type": "code",
      "metadata": {
        "id": "S9C4hBvpnqgZ",
        "colab_type": "code",
        "outputId": "9739745b-f93a-4d09-f276-9cd47959d032",
        "colab": {
          "base_uri": "https://localhost:8080/",
          "height": 34
        }
      },
      "source": [
        "\"cat\" in n_of_paws"
      ],
      "execution_count": 0,
      "outputs": [
        {
          "output_type": "execute_result",
          "data": {
            "text/plain": [
              "True"
            ]
          },
          "metadata": {
            "tags": []
          },
          "execution_count": 83
        }
      ]
    },
    {
      "cell_type": "markdown",
      "metadata": {
        "id": "Rr3cbe_XARbC",
        "colab_type": "text"
      },
      "source": [
        "Let's define a dictionary mapping names to nicknames, and let's define a function that, given a name, returns the nickname, if there is one, and otherwise the name.\n"
      ]
    },
    {
      "cell_type": "code",
      "metadata": {
        "id": "qfGktFTkO9Sj",
        "colab_type": "code",
        "colab": {}
      },
      "source": [
        "nicks = {'Robert': 'Rob', 'Zachary': 'Zac'}\n",
        "\n",
        "def to_nick(n):\n",
        "    nn = nicks.get(n)\n",
        "    # Below, we are using an in-line conditional; more on this later. \n",
        "    return n if nn is None else nn"
      ],
      "execution_count": 0,
      "outputs": []
    },
    {
      "cell_type": "code",
      "metadata": {
        "id": "4SucHsTonu4n",
        "colab_type": "code",
        "outputId": "46624b0d-392e-472f-f9db-8f89e767e59e",
        "colab": {
          "base_uri": "https://localhost:8080/",
          "height": 34
        }
      },
      "source": [
        "to_nick('Robert')"
      ],
      "execution_count": 0,
      "outputs": [
        {
          "output_type": "execute_result",
          "data": {
            "text/plain": [
              "'Rob'"
            ]
          },
          "metadata": {
            "tags": []
          },
          "execution_count": 86
        }
      ]
    },
    {
      "cell_type": "code",
      "metadata": {
        "id": "CIkweR_knvNV",
        "colab_type": "code",
        "outputId": "1a745208-cf59-46c1-b555-22543db9b63b",
        "colab": {
          "base_uri": "https://localhost:8080/",
          "height": 34
        }
      },
      "source": [
        "to_nick('Helen')"
      ],
      "execution_count": 0,
      "outputs": [
        {
          "output_type": "execute_result",
          "data": {
            "text/plain": [
              "'Helen'"
            ]
          },
          "metadata": {
            "tags": []
          },
          "execution_count": 87
        }
      ]
    },
    {
      "cell_type": "markdown",
      "metadata": {
        "id": "fg50eB2-Apo0",
        "colab_type": "text"
      },
      "source": [
        "This also shows why `None` is so useful.\n",
        "\n",
        "Let's do another example.  Suppose you are given a list of animals:\n"
      ]
    },
    {
      "cell_type": "code",
      "metadata": {
        "id": "Kf5rzCAxlhof",
        "colab_type": "code",
        "colab": {}
      },
      "source": [
        "animals = ['pig', 'donkey', 'chicken', 'cat', 'dog', 'snake']"
      ],
      "execution_count": 0,
      "outputs": []
    },
    {
      "cell_type": "markdown",
      "metadata": {
        "id": "s7U9vAe-AwWb",
        "colab_type": "text"
      },
      "source": [
        "Now you want to build a second list, containing the number of paws of each:\n"
      ]
    },
    {
      "cell_type": "code",
      "metadata": {
        "id": "BIP3KG6Vlkfy",
        "colab_type": "code",
        "outputId": "1a175681-14e7-4890-bfad-dab642402a88",
        "colab": {
          "base_uri": "https://localhost:8080/",
          "height": 34
        }
      },
      "source": [
        "my_paws = [n_of_paws.get(a) for a in animals]\n",
        "my_paws"
      ],
      "execution_count": 0,
      "outputs": [
        {
          "output_type": "execute_result",
          "data": {
            "text/plain": [
              "[None, None, None, 4, None, 0]"
            ]
          },
          "metadata": {
            "tags": []
          },
          "execution_count": 89
        }
      ]
    },
    {
      "cell_type": "markdown",
      "metadata": {
        "id": "rvyZ-Pegu2Uu",
        "colab_type": "text"
      },
      "source": [
        "#### Dictionary keys, values, and key-value pairs"
      ]
    },
    {
      "cell_type": "markdown",
      "metadata": {
        "id": "Q0FnjUDzA-BM",
        "colab_type": "text"
      },
      "source": [
        "You can ask for the list of keys of a dictionary:\n"
      ]
    },
    {
      "cell_type": "code",
      "metadata": {
        "id": "xyz8v8q2ieNJ",
        "colab_type": "code",
        "outputId": "605faeef-35f0-41a4-ec45-613f060d583c",
        "colab": {
          "base_uri": "https://localhost:8080/",
          "height": 34
        }
      },
      "source": [
        "n_of_paws.keys()"
      ],
      "execution_count": 0,
      "outputs": [
        {
          "output_type": "execute_result",
          "data": {
            "text/plain": [
              "dict_keys(['cat', 'fish', 'bird', 'snake', 'ant', 'centipede'])"
            ]
          },
          "metadata": {
            "tags": []
          },
          "execution_count": 101
        }
      ]
    },
    {
      "cell_type": "markdown",
      "metadata": {
        "id": "NAr04m3mBWV1",
        "colab_type": "text"
      },
      "source": [
        "What's that `dict_keys` thing?  It turns out that in Python 3,\n",
        "`keys()` returns a _view_ over the dictionary keys.  The view is dynamically updated to reflect changes in the underlying dictionary:\n"
      ]
    },
    {
      "cell_type": "code",
      "metadata": {
        "id": "PfqWIsFvpWP0",
        "colab_type": "code",
        "outputId": "a0950b41-7dbb-4297-9bd8-4f8194104ea3",
        "colab": {
          "base_uri": "https://localhost:8080/",
          "height": 34
        }
      },
      "source": [
        "the_keys = list(n_of_paws.keys())\n",
        "the_keys"
      ],
      "execution_count": 0,
      "outputs": [
        {
          "output_type": "execute_result",
          "data": {
            "text/plain": [
              "['cat', 'fish', 'bird', 'snake', 'ant', 'centipede', 'anteater']"
            ]
          },
          "metadata": {
            "tags": []
          },
          "execution_count": 104
        }
      ]
    },
    {
      "cell_type": "code",
      "metadata": {
        "id": "3Eh_HGfdn3iR",
        "colab_type": "code",
        "outputId": "acc1b4ba-8995-4af6-a1d8-ab9184e7f8f5",
        "colab": {
          "base_uri": "https://localhost:8080/",
          "height": 34
        }
      },
      "source": [
        "n_of_paws['anteater'] = 6 # with apologies to entomologists...\n",
        "the_keys"
      ],
      "execution_count": 0,
      "outputs": [
        {
          "output_type": "execute_result",
          "data": {
            "text/plain": [
              "['cat', 'fish', 'bird', 'snake', 'ant', 'centipede', 'anteater']"
            ]
          },
          "metadata": {
            "tags": []
          },
          "execution_count": 105
        }
      ]
    },
    {
      "cell_type": "markdown",
      "metadata": {
        "id": "-pg2Ebh9qRjs",
        "colab_type": "text"
      },
      "source": [
        "For more on views, see, e.g., https://docs.python.org/3/library/stdtypes.html#dict-views\n",
        "\n"
      ]
    },
    {
      "cell_type": "markdown",
      "metadata": {
        "id": "WstZXsnSBg6x",
        "colab_type": "text"
      },
      "source": [
        "The trouble with `keys()` returning a view is that the notion of view creates a _concealed dependency_ between two distinct variables: in our case, the dictionary `n_of_paws` and the variable `the_keys`.  Concealed dependencies are a common source of errors in programs.\n",
        "\n",
        "The view is fine for iterating over (we will cover iteration in more detail later):"
      ]
    },
    {
      "cell_type": "code",
      "metadata": {
        "id": "bgSaV7nFrdcp",
        "colab_type": "code",
        "outputId": "b6d4c768-d70a-44b7-ec64-aca074845a6e",
        "colab": {
          "base_uri": "https://localhost:8080/",
          "height": 104
        }
      },
      "source": [
        "for k in n_of_paws.keys():\n",
        "    print(\"I have a key:\", k)"
      ],
      "execution_count": 0,
      "outputs": [
        {
          "output_type": "stream",
          "text": [
            "I have a key: cat\n",
            "I have a key: fish\n",
            "I have a key: bird\n",
            "I have a key: snake\n",
            "I have a key: ant\n"
          ],
          "name": "stdout"
        }
      ]
    },
    {
      "cell_type": "markdown",
      "metadata": {
        "id": "6HJmox1wB9bm",
        "colab_type": "text"
      },
      "source": [
        "But do yourself a favor, and unless you are super sure of what you are doing (and I would argue, even if you think you are), never assign views to variables; convert them first to standard lists in order to remove the concealed dependency:\n"
      ]
    },
    {
      "cell_type": "code",
      "metadata": {
        "id": "bmXk06zur0vw",
        "colab_type": "code",
        "outputId": "aa7114ec-3cd1-414b-e791-f4004af4b5b0",
        "colab": {
          "base_uri": "https://localhost:8080/",
          "height": 34
        }
      },
      "source": [
        "my_keys = list(n_of_paws.keys())\n",
        "my_keys"
      ],
      "execution_count": 0,
      "outputs": [
        {
          "output_type": "execute_result",
          "data": {
            "text/plain": [
              "['cat', 'fish', 'bird', 'snake', 'ant']"
            ]
          },
          "metadata": {
            "tags": []
          },
          "execution_count": 94
        }
      ]
    },
    {
      "cell_type": "code",
      "metadata": {
        "id": "Q981pc1MoBdL",
        "colab_type": "code",
        "outputId": "bc196e55-ae0a-4bd2-e10f-32f50f2a2a97",
        "colab": {
          "base_uri": "https://localhost:8080/",
          "height": 34
        }
      },
      "source": [
        "n_of_paws['centipede'] = 30 # True for some centipedes\n",
        "my_keys"
      ],
      "execution_count": 0,
      "outputs": [
        {
          "output_type": "execute_result",
          "data": {
            "text/plain": [
              "['cat', 'fish', 'bird', 'snake', 'ant']"
            ]
          },
          "metadata": {
            "tags": []
          },
          "execution_count": 95
        }
      ]
    },
    {
      "cell_type": "markdown",
      "metadata": {
        "id": "umYutfkFCFUJ",
        "colab_type": "text"
      },
      "source": [
        "In addition to `.keys()`, you can also use `.values()` to get a dictionary's values, with the same caveat about the view having a concealed dependency:\n"
      ]
    },
    {
      "cell_type": "code",
      "metadata": {
        "id": "mjnGwK4lijCi",
        "colab_type": "code",
        "outputId": "c9e8fd70-87e2-451e-aaed-c17cc9ef40f6",
        "colab": {
          "base_uri": "https://localhost:8080/",
          "height": 34
        }
      },
      "source": [
        "n_of_paws.values()"
      ],
      "execution_count": 0,
      "outputs": [
        {
          "output_type": "execute_result",
          "data": {
            "text/plain": [
              "dict_values([4, 0, 2, 0, 6, 30])"
            ]
          },
          "metadata": {
            "tags": []
          },
          "execution_count": 96
        }
      ]
    },
    {
      "cell_type": "markdown",
      "metadata": {
        "id": "3_IqmLW8CP0y",
        "colab_type": "text"
      },
      "source": [
        "Much more useful is to have the key-value pairs, which we can get using `.items()`.  It returns a view of a list of tuples.\n"
      ]
    },
    {
      "cell_type": "code",
      "metadata": {
        "id": "ectytnryiq3f",
        "colab_type": "code",
        "outputId": "5d5defb5-3238-40cd-c44a-e420f3db4411",
        "colab": {
          "base_uri": "https://localhost:8080/",
          "height": 121
        }
      },
      "source": [
        "list(n_of_paws.items())"
      ],
      "execution_count": 0,
      "outputs": [
        {
          "output_type": "execute_result",
          "data": {
            "text/plain": [
              "[('cat', 4),\n",
              " ('fish', 0),\n",
              " ('bird', 2),\n",
              " ('snake', 0),\n",
              " ('ant', 6),\n",
              " ('centipede', 30)]"
            ]
          },
          "metadata": {
            "tags": []
          },
          "execution_count": 97
        }
      ]
    },
    {
      "cell_type": "markdown",
      "metadata": {
        "id": "M1c67slTDEjK",
        "colab_type": "text"
      },
      "source": [
        "Recall our list of animals from earlier:"
      ]
    },
    {
      "cell_type": "code",
      "metadata": {
        "id": "ONQFpaqcDJoG",
        "colab_type": "code",
        "outputId": "337af699-bd0c-4c88-979a-ff8655a6794d",
        "colab": {
          "base_uri": "https://localhost:8080/",
          "height": 34
        }
      },
      "source": [
        "animals"
      ],
      "execution_count": 0,
      "outputs": [
        {
          "output_type": "execute_result",
          "data": {
            "text/plain": [
              "['pig', 'donkey', 'chicken', 'cat', 'dog', 'snake']"
            ]
          },
          "metadata": {
            "tags": []
          },
          "execution_count": 98
        }
      ]
    },
    {
      "cell_type": "markdown",
      "metadata": {
        "id": "rzEauZaYDN94",
        "colab_type": "text"
      },
      "source": [
        "How can we use `animals` and `n_of_paws` to create a dictionary that maps each entry in `animals` to its number of paws?"
      ]
    },
    {
      "cell_type": "code",
      "metadata": {
        "id": "9aYfZ54rxDWy",
        "colab_type": "code",
        "outputId": "0cb63022-d306-4820-d084-6cff2b0970e4",
        "colab": {
          "base_uri": "https://localhost:8080/",
          "height": 121
        }
      },
      "source": [
        "my_paws = {a : n_of_paws.get(a) for a in animals}\n",
        "my_paws"
      ],
      "execution_count": 0,
      "outputs": [
        {
          "output_type": "execute_result",
          "data": {
            "text/plain": [
              "{'cat': 4,\n",
              " 'chicken': None,\n",
              " 'dog': None,\n",
              " 'donkey': None,\n",
              " 'pig': None,\n",
              " 'snake': 0}"
            ]
          },
          "metadata": {
            "tags": []
          },
          "execution_count": 99
        }
      ]
    },
    {
      "cell_type": "markdown",
      "metadata": {
        "id": "FnT3qaHsDkNO",
        "colab_type": "text"
      },
      "source": [
        "What we did above is a _dictionary comprehension_.  It works similarly to a list comprehension, but uses the syntax `{k : v for ...}` to build the dictionary.  \n",
        "\n",
        "What if you want in the dictionary only things that do not map to `None`?  You can add an `if` clause to the comprehension:\n"
      ]
    },
    {
      "cell_type": "code",
      "metadata": {
        "id": "RciSI3jJuU31",
        "colab_type": "code",
        "outputId": "1a21b98a-20ba-450b-dead-b2a40e0b4696",
        "colab": {
          "base_uri": "https://localhost:8080/",
          "height": 34
        }
      },
      "source": [
        "my_known_paws = {a : n_of_paws.get(a) for a in animals if a in n_of_paws}\n",
        "my_known_paws"
      ],
      "execution_count": 0,
      "outputs": [
        {
          "output_type": "execute_result",
          "data": {
            "text/plain": [
              "{'cat': 4, 'snake': 0}"
            ]
          },
          "metadata": {
            "tags": []
          },
          "execution_count": 100
        }
      ]
    },
    {
      "cell_type": "markdown",
      "metadata": {
        "id": "yYpEubkGDyFN",
        "colab_type": "text"
      },
      "source": [
        "As you can see, comprehensions are a powerful language feature that enables concise and readable code."
      ]
    },
    {
      "cell_type": "markdown",
      "metadata": {
        "id": "8USdvrcJvk9n",
        "colab_type": "text"
      },
      "source": [
        "## Sets"
      ]
    },
    {
      "cell_type": "markdown",
      "metadata": {
        "id": "tXRhiCpRG7ID",
        "colab_type": "text"
      },
      "source": [
        "Sets are data structures that represent... sets.  Sets are like lists, except that they cannot have repeated elements.\n"
      ]
    },
    {
      "cell_type": "code",
      "metadata": {
        "id": "I4fH86tXQOHh",
        "colab_type": "code",
        "outputId": "50d95cbb-0d7c-44b8-ba5b-0558fb014bc8",
        "colab": {
          "base_uri": "https://localhost:8080/",
          "height": 34
        }
      },
      "source": [
        "s = set() # {} would be a dictionary... \n",
        "s"
      ],
      "execution_count": 0,
      "outputs": [
        {
          "output_type": "execute_result",
          "data": {
            "text/plain": [
              "set()"
            ]
          },
          "metadata": {
            "tags": []
          },
          "execution_count": 106
        }
      ]
    },
    {
      "cell_type": "code",
      "metadata": {
        "id": "qn2s3Cd42bmp",
        "colab_type": "code",
        "colab": {}
      },
      "source": [
        "set1 = {'cat', 'dog'}\n",
        "set2 = {'bird', 'mouse', 'cat'}\n",
        "set3 = {'dog', 'cat'}\n"
      ],
      "execution_count": 0,
      "outputs": []
    },
    {
      "cell_type": "markdown",
      "metadata": {
        "id": "53ErvdydHCZW",
        "colab_type": "text"
      },
      "source": [
        "We can take union, intersection, and difference of sets:\n"
      ]
    },
    {
      "cell_type": "code",
      "metadata": {
        "id": "Xr5tRiD32sCE",
        "colab_type": "code",
        "outputId": "6f719d45-4efa-41df-e9bc-27874f46bd03",
        "colab": {
          "base_uri": "https://localhost:8080/",
          "height": 34
        }
      },
      "source": [
        "set1 | set2 # union"
      ],
      "execution_count": 0,
      "outputs": [
        {
          "output_type": "execute_result",
          "data": {
            "text/plain": [
              "{'bird', 'cat', 'dog', 'mouse'}"
            ]
          },
          "metadata": {
            "tags": []
          },
          "execution_count": 108
        }
      ]
    },
    {
      "cell_type": "code",
      "metadata": {
        "id": "-7Ww-IncoNPE",
        "colab_type": "code",
        "outputId": "0bfb0952-f9f5-48a2-91e8-93eec3281a3b",
        "colab": {
          "base_uri": "https://localhost:8080/",
          "height": 34
        }
      },
      "source": [
        "set1 & set2 # intersection"
      ],
      "execution_count": 0,
      "outputs": [
        {
          "output_type": "execute_result",
          "data": {
            "text/plain": [
              "{'cat'}"
            ]
          },
          "metadata": {
            "tags": []
          },
          "execution_count": 109
        }
      ]
    },
    {
      "cell_type": "code",
      "metadata": {
        "id": "d2v_kGttoNzI",
        "colab_type": "code",
        "outputId": "495483f1-2662-4cbe-f904-9af6111b92ae",
        "colab": {
          "base_uri": "https://localhost:8080/",
          "height": 34
        }
      },
      "source": [
        "set1 - set2 # difference"
      ],
      "execution_count": 0,
      "outputs": [
        {
          "output_type": "execute_result",
          "data": {
            "text/plain": [
              "{'dog'}"
            ]
          },
          "metadata": {
            "tags": []
          },
          "execution_count": 110
        }
      ]
    },
    {
      "cell_type": "markdown",
      "metadata": {
        "id": "PsvGftrbHHGJ",
        "colab_type": "text"
      },
      "source": [
        "Set equality is defined as element-wise equality (order does not matter):\n"
      ]
    },
    {
      "cell_type": "code",
      "metadata": {
        "id": "PIO500l13Ws4",
        "colab_type": "code",
        "outputId": "93075a05-c6ee-4cf0-daa4-823ad6efc704",
        "colab": {
          "base_uri": "https://localhost:8080/",
          "height": 34
        }
      },
      "source": [
        "set1 == set3"
      ],
      "execution_count": 0,
      "outputs": [
        {
          "output_type": "execute_result",
          "data": {
            "text/plain": [
              "True"
            ]
          },
          "metadata": {
            "tags": []
          },
          "execution_count": 111
        }
      ]
    },
    {
      "cell_type": "markdown",
      "metadata": {
        "id": "7oDQoa5zHPJh",
        "colab_type": "text"
      },
      "source": [
        "We can add elements to a set... \n"
      ]
    },
    {
      "cell_type": "code",
      "metadata": {
        "id": "u_9zfkUO3CPX",
        "colab_type": "code",
        "outputId": "7f277e80-a1d5-49ae-a911-cc85dfa372a6",
        "colab": {
          "base_uri": "https://localhost:8080/",
          "height": 34
        }
      },
      "source": [
        "set1.add('duck')\n",
        "set1"
      ],
      "execution_count": 0,
      "outputs": [
        {
          "output_type": "execute_result",
          "data": {
            "text/plain": [
              "{'cat', 'dog', 'duck'}"
            ]
          },
          "metadata": {
            "tags": []
          },
          "execution_count": 112
        }
      ]
    },
    {
      "cell_type": "code",
      "metadata": {
        "id": "qaJV5h_ooXKQ",
        "colab_type": "code",
        "outputId": "a0ea6e2f-2929-4067-8881-3112079b11c0",
        "colab": {
          "base_uri": "https://localhost:8080/",
          "height": 34
        }
      },
      "source": [
        "set1.add('dog')\n",
        "set1"
      ],
      "execution_count": 0,
      "outputs": [
        {
          "output_type": "execute_result",
          "data": {
            "text/plain": [
              "{'cat', 'dog', 'duck'}"
            ]
          },
          "metadata": {
            "tags": []
          },
          "execution_count": 113
        }
      ]
    },
    {
      "cell_type": "markdown",
      "metadata": {
        "id": "hUHJrbDnHSr9",
        "colab_type": "text"
      },
      "source": [
        "...and as you can see, since sets have no repeated elements, if you add a dog to a set containing already a dog, nothing changes.\n",
        "\n",
        "We can test membership using `in`, just like for lists:"
      ]
    },
    {
      "cell_type": "code",
      "metadata": {
        "id": "cDPz2PAG4-72",
        "colab_type": "code",
        "outputId": "a1f48a22-9c5c-4ebe-85ba-c443d3d2cf5e",
        "colab": {
          "base_uri": "https://localhost:8080/",
          "height": 34
        }
      },
      "source": [
        "'cat' in set1"
      ],
      "execution_count": 0,
      "outputs": [
        {
          "output_type": "execute_result",
          "data": {
            "text/plain": [
              "True"
            ]
          },
          "metadata": {
            "tags": []
          },
          "execution_count": 114
        }
      ]
    },
    {
      "cell_type": "code",
      "metadata": {
        "id": "DDA5m_K3ob3g",
        "colab_type": "code",
        "outputId": "0bbaf8e2-a3c6-4220-8b1f-90106f92b2c9",
        "colab": {
          "base_uri": "https://localhost:8080/",
          "height": 34
        }
      },
      "source": [
        "'opossum' in set1"
      ],
      "execution_count": 0,
      "outputs": [
        {
          "output_type": "execute_result",
          "data": {
            "text/plain": [
              "False"
            ]
          },
          "metadata": {
            "tags": []
          },
          "execution_count": 115
        }
      ]
    },
    {
      "cell_type": "markdown",
      "metadata": {
        "id": "aHCw0W2aHh9W",
        "colab_type": "text"
      },
      "source": [
        "A quick way to remove duplicates from a list is to turn it into a set, then back into a list.  This loses the ordering, though, as sets do not preserve the order of the elements of the lists from which they were created:\n"
      ]
    },
    {
      "cell_type": "code",
      "metadata": {
        "id": "pgEPm8WW4Gpl",
        "colab_type": "code",
        "outputId": "61783eab-7e60-45cf-8e4d-5d5df74e42a5",
        "colab": {
          "base_uri": "https://localhost:8080/",
          "height": 34
        }
      },
      "source": [
        "l = ['a', 'b', 'c', 'g', 'c', 'd', 'f', 'g']\n",
        "l_set = set(l)\n",
        "l_set\n",
        "l_uniq = list(l_set)\n",
        "l_uniq"
      ],
      "execution_count": 0,
      "outputs": [
        {
          "output_type": "execute_result",
          "data": {
            "text/plain": [
              "['d', 'a', 'g', 'b', 'c', 'f']"
            ]
          },
          "metadata": {
            "tags": []
          },
          "execution_count": 118
        }
      ]
    },
    {
      "cell_type": "markdown",
      "metadata": {
        "id": "JFc7oGVqHpyC",
        "colab_type": "text"
      },
      "source": [
        "If you want to preserve the ordering, then you can use iteration (covered later) and do as follows:"
      ]
    },
    {
      "cell_type": "code",
      "metadata": {
        "id": "lG3s2te_4d0x",
        "colab_type": "code",
        "outputId": "686cbe66-af0a-47c1-8b7f-514b5917ac39",
        "colab": {
          "base_uri": "https://localhost:8080/",
          "height": 34
        }
      },
      "source": [
        "l_uniq = [] # list\n",
        "occurrences = set() # set\n",
        "for s in l:\n",
        "    if s not in occurrences:\n",
        "        l_uniq.append(s) # list append\n",
        "        occurrences.add(s) # set add\n",
        "l_uniq"
      ],
      "execution_count": 0,
      "outputs": [
        {
          "output_type": "execute_result",
          "data": {
            "text/plain": [
              "['a', 'b', 'c', 'g', 'd', 'f']"
            ]
          },
          "metadata": {
            "tags": []
          },
          "execution_count": 119
        }
      ]
    },
    {
      "cell_type": "markdown",
      "metadata": {
        "id": "PNT4q5Ks7v79",
        "colab_type": "text"
      },
      "source": [
        "## Conditionals"
      ]
    },
    {
      "cell_type": "markdown",
      "metadata": {
        "id": "yeqHJ2fBH4x6",
        "colab_type": "text"
      },
      "source": [
        "You can build boolean expressions with the usual comparison operators `<`, `<=`, `>`, `>=`, `==`, and `!=`. \n"
      ]
    },
    {
      "cell_type": "code",
      "metadata": {
        "id": "SVoA-VsT7ys_",
        "colab_type": "code",
        "outputId": "321ffe8b-3e3c-4a76-b0e5-8641edd5ad34",
        "colab": {
          "base_uri": "https://localhost:8080/",
          "height": 34
        }
      },
      "source": [
        "3 < 4"
      ],
      "execution_count": 0,
      "outputs": [
        {
          "output_type": "execute_result",
          "data": {
            "text/plain": [
              "True"
            ]
          },
          "metadata": {
            "tags": []
          },
          "execution_count": 120
        }
      ]
    },
    {
      "cell_type": "markdown",
      "metadata": {
        "id": "QDq2pphcICWf",
        "colab_type": "text"
      },
      "source": [
        "There are also other operators that yield boolean values.  One is `in`, to test membership in lists or dictionaries or sets or strings: \n"
      ]
    },
    {
      "cell_type": "code",
      "metadata": {
        "id": "9Fvh8i1178HH",
        "colab_type": "code",
        "outputId": "a3920a4d-90ce-423d-ae5c-1db81a3e6a62",
        "colab": {
          "base_uri": "https://localhost:8080/",
          "height": 34
        }
      },
      "source": [
        "'a' in ['a', 'b', 'c']"
      ],
      "execution_count": 0,
      "outputs": [
        {
          "output_type": "execute_result",
          "data": {
            "text/plain": [
              "True"
            ]
          },
          "metadata": {
            "tags": []
          },
          "execution_count": 121
        }
      ]
    },
    {
      "cell_type": "code",
      "metadata": {
        "id": "y36T0ZP1I6Pl",
        "colab_type": "code",
        "outputId": "7a61cf59-c8c1-4d52-90ee-09afe7e3e136",
        "colab": {
          "base_uri": "https://localhost:8080/",
          "height": 34
        }
      },
      "source": [
        "'a' in 'hello my dear'"
      ],
      "execution_count": 0,
      "outputs": [
        {
          "output_type": "execute_result",
          "data": {
            "text/plain": [
              "True"
            ]
          },
          "metadata": {
            "tags": []
          },
          "execution_count": 122
        }
      ]
    },
    {
      "cell_type": "code",
      "metadata": {
        "id": "5A7WfUk8I-KA",
        "colab_type": "code",
        "outputId": "2bfc6c6a-c33d-41a6-9bc4-b93eb14d27d4",
        "colab": {
          "base_uri": "https://localhost:8080/",
          "height": 34
        }
      },
      "source": [
        "'z' not in 'hello my dear'"
      ],
      "execution_count": 0,
      "outputs": [
        {
          "output_type": "execute_result",
          "data": {
            "text/plain": [
              "True"
            ]
          },
          "metadata": {
            "tags": []
          },
          "execution_count": 123
        }
      ]
    },
    {
      "cell_type": "markdown",
      "metadata": {
        "id": "e9Ngb2AKJEB-",
        "colab_type": "text"
      },
      "source": [
        "Another one is `is` (and `is not`), to check whether two things are identical most often used for `None`.  Here's one way of removing `None` elements from a list, preserving order:\n"
      ]
    },
    {
      "cell_type": "code",
      "metadata": {
        "id": "RfhvJmk38PdR",
        "colab_type": "code",
        "outputId": "0fa75690-1e65-4533-b1c6-7da258b29a68",
        "colab": {
          "base_uri": "https://localhost:8080/",
          "height": 34
        }
      },
      "source": [
        "[a for a in [1, 2, 3, None, 4] if a is not None]"
      ],
      "execution_count": 0,
      "outputs": [
        {
          "output_type": "execute_result",
          "data": {
            "text/plain": [
              "[1, 2, 3, 4]"
            ]
          },
          "metadata": {
            "tags": []
          },
          "execution_count": 125
        }
      ]
    },
    {
      "cell_type": "markdown",
      "metadata": {
        "id": "MbYbBDVtJWdb",
        "colab_type": "text"
      },
      "source": [
        "Boolean expressions enable conditional execution:"
      ]
    },
    {
      "cell_type": "code",
      "metadata": {
        "id": "RDIMwV2K8flt",
        "colab_type": "code",
        "outputId": "76662f31-a491-453d-9120-ea293f171a4a",
        "colab": {
          "base_uri": "https://localhost:8080/",
          "height": 364
        }
      },
      "source": [
        "for x in range(10):\n",
        "    if x % 2 == 0: # The % is the modulus operator.\n",
        "        print(x, \"is even\")\n",
        "    else:\n",
        "        print(x, \"is odd\")\n",
        "    if x % 3 == 0:\n",
        "        print(x, \"is a multiple of 3\")\n",
        "    elif x % 3 == 1:\n",
        "        print(x, \"is 1 above a multiple of 3\")\n",
        "    else:\n",
        "        print(x, \"is 1 below a multiple of 3\")"
      ],
      "execution_count": 0,
      "outputs": [
        {
          "output_type": "stream",
          "text": [
            "0 is even\n",
            "0 is a multiple of 3\n",
            "1 is odd\n",
            "1 is 1 above a multiple of 3\n",
            "2 is even\n",
            "2 is 1 below a multiple of 3\n",
            "3 is odd\n",
            "3 is a multiple of 3\n",
            "4 is even\n",
            "4 is 1 above a multiple of 3\n",
            "5 is odd\n",
            "5 is 1 below a multiple of 3\n",
            "6 is even\n",
            "6 is a multiple of 3\n",
            "7 is odd\n",
            "7 is 1 above a multiple of 3\n",
            "8 is even\n",
            "8 is 1 below a multiple of 3\n",
            "9 is odd\n",
            "9 is a multiple of 3\n"
          ],
          "name": "stdout"
        }
      ]
    },
    {
      "cell_type": "markdown",
      "metadata": {
        "id": "Yr78Ze3yJ6Ni",
        "colab_type": "text"
      },
      "source": [
        "The above use of `if` is a _statement_, but Python also has conditional _expressions_, which use the following syntax:\n"
      ]
    },
    {
      "cell_type": "code",
      "metadata": {
        "id": "oI5OLlZT9L9d",
        "colab_type": "code",
        "outputId": "019ea29f-d183-4f88-a238-b51048d5f836",
        "colab": {
          "base_uri": "https://localhost:8080/",
          "height": 34
        }
      },
      "source": [
        "x = 3\n",
        "y = x + 1 if x % 2 == 0 else x + 2\n",
        "y"
      ],
      "execution_count": 0,
      "outputs": [
        {
          "output_type": "execute_result",
          "data": {
            "text/plain": [
              "5"
            ]
          },
          "metadata": {
            "tags": []
          },
          "execution_count": 127
        }
      ]
    },
    {
      "cell_type": "markdown",
      "metadata": {
        "id": "FL4xbl0GKbtC",
        "colab_type": "text"
      },
      "source": [
        "This can be very handy in list comprehensions:\n"
      ]
    },
    {
      "cell_type": "code",
      "metadata": {
        "id": "y-Hx6dEd9dzT",
        "colab_type": "code",
        "outputId": "03398c72-a746-45c1-fa98-bc23750a7074",
        "colab": {
          "base_uri": "https://localhost:8080/",
          "height": 34
        }
      },
      "source": [
        "[x if x % 2 == 0 else -x for x in range(10)]"
      ],
      "execution_count": 0,
      "outputs": [
        {
          "output_type": "execute_result",
          "data": {
            "text/plain": [
              "[0, -1, 2, -3, 4, -5, 6, -7, 8, -9]"
            ]
          },
          "metadata": {
            "tags": []
          },
          "execution_count": 128
        }
      ]
    },
    {
      "cell_type": "markdown",
      "metadata": {
        "id": "xNpgmyOd0gHR",
        "colab_type": "text"
      },
      "source": [
        "## Iteration"
      ]
    },
    {
      "cell_type": "markdown",
      "metadata": {
        "id": "U1E0R4JFCfqT",
        "colab_type": "text"
      },
      "source": [
        "In languages like Fortran and C, when you iterate, you have to have a counter, increment it, and all that stuff.  Yeech.\n",
        "\n",
        "Not so in Python.  You iterate over something that is _iterable_, that is, that has (or can produce) a sequence of elements.  Like... a list! \n"
      ]
    },
    {
      "cell_type": "code",
      "metadata": {
        "id": "mva7sbs-y7lR",
        "colab_type": "code",
        "outputId": "bedeceb3-053a-4bac-d0e2-1e6dc4674624",
        "colab": {
          "base_uri": "https://localhost:8080/",
          "height": 191
        }
      },
      "source": [
        "my_words = \"I like to eat pizza with anchovies, I actually do!\".split()\n",
        "my_words\n",
        "for w in my_words:\n",
        "    print(\"My word is:\", w)"
      ],
      "execution_count": 0,
      "outputs": [
        {
          "output_type": "stream",
          "text": [
            "My word is: I\n",
            "My word is: like\n",
            "My word is: to\n",
            "My word is: eat\n",
            "My word is: pizza\n",
            "My word is: with\n",
            "My word is: anchovies,\n",
            "My word is: I\n",
            "My word is: actually\n",
            "My word is: do!\n"
          ],
          "name": "stdout"
        }
      ]
    },
    {
      "cell_type": "markdown",
      "metadata": {
        "id": "qqNxlsWDCu1V",
        "colab_type": "text"
      },
      "source": [
        "You can also iterate over pairs, consisting of the element index and the list element:\n"
      ]
    },
    {
      "cell_type": "code",
      "metadata": {
        "id": "TVSICPjF1MHt",
        "colab_type": "code",
        "outputId": "d213615f-7e3a-4ab6-ea87-f76085d8188c",
        "colab": {
          "base_uri": "https://localhost:8080/",
          "height": 191
        }
      },
      "source": [
        "for i, w in enumerate(my_words):\n",
        "    print(\"The word number\", i, \"is:\", w)"
      ],
      "execution_count": 0,
      "outputs": [
        {
          "output_type": "stream",
          "text": [
            "The word number 0 is: I\n",
            "The word number 1 is: like\n",
            "The word number 2 is: to\n",
            "The word number 3 is: eat\n",
            "The word number 4 is: pizza\n",
            "The word number 5 is: with\n",
            "The word number 6 is: anchovies,\n",
            "The word number 7 is: I\n",
            "The word number 8 is: actually\n",
            "The word number 9 is: do!\n"
          ],
          "name": "stdout"
        }
      ]
    },
    {
      "cell_type": "markdown",
      "metadata": {
        "id": "kOtVaR_vC_1u",
        "colab_type": "text"
      },
      "source": [
        "If you get tired of iteration, you can break out of it:"
      ]
    },
    {
      "cell_type": "code",
      "metadata": {
        "id": "pRbVD4DT1aEI",
        "colab_type": "code",
        "outputId": "4e39aeae-ae5f-4aef-c92e-3c6e4a5b4a1d",
        "colab": {
          "base_uri": "https://localhost:8080/",
          "height": 156
        }
      },
      "source": [
        "for w in my_words:\n",
        "    print(w)\n",
        "    if w.startswith('anchovies'):\n",
        "        print(\"   Indeed, they are delicious, no need to say more!\")\n",
        "        break"
      ],
      "execution_count": 0,
      "outputs": [
        {
          "output_type": "stream",
          "text": [
            "I\n",
            "like\n",
            "to\n",
            "eat\n",
            "pizza\n",
            "with\n",
            "anchovies,\n",
            "   Indeed, they are delicious, no need to say more!\n"
          ],
          "name": "stdout"
        }
      ]
    },
    {
      "cell_type": "markdown",
      "metadata": {
        "id": "kCc2GybpDI83",
        "colab_type": "text"
      },
      "source": [
        "And if you need to iterate over indices, like you used to do in C?  You can use `range(...)`, which returns an iterable object representing a sequence of numbers: \n"
      ]
    },
    {
      "cell_type": "code",
      "metadata": {
        "id": "9wtkml541jVB",
        "colab_type": "code",
        "outputId": "86249fbd-70d0-4d1a-e8e6-a3a1ef71d6d7",
        "colab": {
          "base_uri": "https://localhost:8080/",
          "height": 191
        }
      },
      "source": [
        "for i in range(10):\n",
        "    print(\"My integer is:\", i)"
      ],
      "execution_count": 0,
      "outputs": [
        {
          "output_type": "stream",
          "text": [
            "My integer is: 0\n",
            "My integer is: 1\n",
            "My integer is: 2\n",
            "My integer is: 3\n",
            "My integer is: 4\n",
            "My integer is: 5\n",
            "My integer is: 6\n",
            "My integer is: 7\n",
            "My integer is: 8\n",
            "My integer is: 9\n"
          ],
          "name": "stdout"
        }
      ]
    },
    {
      "cell_type": "markdown",
      "metadata": {
        "id": "pCip1LTDEIaM",
        "colab_type": "text"
      },
      "source": [
        "In Python 2, `range(...)` returned a list.  In Python 3, it returns an iterable object of `range` type:"
      ]
    },
    {
      "cell_type": "code",
      "metadata": {
        "id": "IhmIZQHeEQkl",
        "colab_type": "code",
        "outputId": "7aefa6c1-703b-4098-c642-ebd719426cf0",
        "colab": {
          "base_uri": "https://localhost:8080/",
          "height": 34
        }
      },
      "source": [
        "type(range(10))"
      ],
      "execution_count": 0,
      "outputs": [
        {
          "output_type": "execute_result",
          "data": {
            "text/plain": [
              "range"
            ]
          },
          "metadata": {
            "tags": []
          },
          "execution_count": 134
        }
      ]
    },
    {
      "cell_type": "markdown",
      "metadata": {
        "id": "wooMbUN0En9m",
        "colab_type": "text"
      },
      "source": [
        "This is nice because if you want to do a large number of iterations, like, say, a billion, you can efficiently create a `range` object with no problem in Python 3, whereas in the bad old days with Python 2, calling `range(1, 1000000000)` would build a list of a billion elements and possibly run out of memory."
      ]
    },
    {
      "cell_type": "code",
      "metadata": {
        "id": "7qnNcRmX7MFY",
        "colab_type": "code",
        "outputId": "eb165d77-4cf4-4e38-ba74-1f099a43d44a",
        "colab": {
          "base_uri": "https://localhost:8080/",
          "height": 34
        }
      },
      "source": [
        "range(1, 10000000000)"
      ],
      "execution_count": 0,
      "outputs": [
        {
          "output_type": "execute_result",
          "data": {
            "text/plain": [
              "range(1, 10000000000)"
            ]
          },
          "metadata": {
            "tags": []
          },
          "execution_count": 135
        }
      ]
    },
    {
      "cell_type": "markdown",
      "metadata": {
        "id": "tblMorKiLRRA",
        "colab_type": "text"
      },
      "source": [
        "You can also iterate on list slices:\n"
      ]
    },
    {
      "cell_type": "code",
      "metadata": {
        "id": "LhzuMNq62FXn",
        "colab_type": "code",
        "outputId": "d121aa4c-7d24-4816-975a-ce8c31da8ad5",
        "colab": {
          "base_uri": "https://localhost:8080/",
          "height": 104
        }
      },
      "source": [
        "for w in my_words[:5]:\n",
        "    print(w)"
      ],
      "execution_count": 0,
      "outputs": [
        {
          "output_type": "stream",
          "text": [
            "I\n",
            "like\n",
            "to\n",
            "eat\n",
            "pizza\n"
          ],
          "name": "stdout"
        }
      ]
    },
    {
      "cell_type": "markdown",
      "metadata": {
        "id": "rLJGUjp22xL5",
        "colab_type": "text"
      },
      "source": [
        "As you've probably noticed, Python uses indentation rather than beginning and ending brackets (`{` and `}`) to group statements together.  So indentation is semantically meaningful in Python, unlike in, say, C or Java."
      ]
    },
    {
      "cell_type": "markdown",
      "metadata": {
        "id": "ax58ICeXUrao",
        "colab_type": "text"
      },
      "source": [
        "As we saw earlier, if you have a dictionary, you can iterate over its keys using `.keys()`..."
      ]
    },
    {
      "cell_type": "code",
      "metadata": {
        "id": "05zZ65Yc2Vej",
        "colab_type": "code",
        "outputId": "4297b6c2-7cd9-4aac-ae1e-1740670e936f",
        "colab": {
          "base_uri": "https://localhost:8080/",
          "height": 139
        }
      },
      "source": [
        "for k in n_of_paws.keys():\n",
        "    print (\"I have a\", k)"
      ],
      "execution_count": 0,
      "outputs": [
        {
          "output_type": "stream",
          "text": [
            "I have a cat\n",
            "I have a fish\n",
            "I have a bird\n",
            "I have a snake\n",
            "I have a ant\n",
            "I have a centipede\n",
            "I have a anteater\n"
          ],
          "name": "stdout"
        }
      ]
    },
    {
      "cell_type": "markdown",
      "metadata": {
        "id": "wkX3qVPXU9TR",
        "colab_type": "text"
      },
      "source": [
        "...or over its key-value pairs using `.items()`:\n"
      ]
    },
    {
      "cell_type": "code",
      "metadata": {
        "id": "Hee0NxlZ3ahm",
        "colab_type": "code",
        "outputId": "90686d5d-1a23-4c9d-dfa2-60657dac19e4",
        "colab": {
          "base_uri": "https://localhost:8080/",
          "height": 139
        }
      },
      "source": [
        "for k, v in n_of_paws.items():\n",
        "    print(\"A\", k, \"has\", v, \"paws\")"
      ],
      "execution_count": 0,
      "outputs": [
        {
          "output_type": "stream",
          "text": [
            "A cat has 4 paws\n",
            "A fish has 0 paws\n",
            "A bird has 2 paws\n",
            "A snake has 0 paws\n",
            "A ant has 6 paws\n",
            "A centipede has 30 paws\n",
            "A anteater has 6 paws\n"
          ],
          "name": "stdout"
        }
      ]
    },
    {
      "cell_type": "markdown",
      "metadata": {
        "id": "Y72LxM5gVOXF",
        "colab_type": "text"
      },
      "source": [
        "There is also a `while` statement, which works as usual:\n"
      ]
    },
    {
      "cell_type": "code",
      "metadata": {
        "id": "-OKmn62J9uco",
        "colab_type": "code",
        "outputId": "edc228f7-2148-46d9-a501-c21073e660f9",
        "colab": {
          "base_uri": "https://localhost:8080/",
          "height": 86
        }
      },
      "source": [
        "x = 3.\n",
        "while x > 1.1:\n",
        "    print(x)\n",
        "    x = x / 1.6\n",
        "print(\"The final result is:\", x)"
      ],
      "execution_count": 0,
      "outputs": [
        {
          "output_type": "stream",
          "text": [
            "3.0\n",
            "1.875\n",
            "1.171875\n",
            "The final result is: 0.732421875\n"
          ],
          "name": "stdout"
        }
      ]
    },
    {
      "cell_type": "markdown",
      "metadata": {
        "id": "6qkLsTK93xxF",
        "colab_type": "text"
      },
      "source": [
        "## Functions"
      ]
    },
    {
      "cell_type": "markdown",
      "metadata": {
        "id": "g-HJXXj-WO33",
        "colab_type": "text"
      },
      "source": [
        "We can introduce a function definition with `def`:"
      ]
    },
    {
      "cell_type": "code",
      "metadata": {
        "id": "zVeg_bdX3qqz",
        "colab_type": "code",
        "outputId": "0b621c52-e471-4a15-dd69-7ad222653d9b",
        "colab": {
          "base_uri": "https://localhost:8080/",
          "height": 34
        }
      },
      "source": [
        "def addone(x):\n",
        "    return x + 1\n",
        "\n",
        "addone(3)"
      ],
      "execution_count": 0,
      "outputs": [
        {
          "output_type": "execute_result",
          "data": {
            "text/plain": [
              "4"
            ]
          },
          "metadata": {
            "tags": []
          },
          "execution_count": 141
        }
      ]
    },
    {
      "cell_type": "code",
      "metadata": {
        "id": "3tb5Tjsy-rjt",
        "colab_type": "code",
        "colab": {}
      },
      "source": [
        "def add_one_to_prod(x, y):\n",
        "    \"\"\"This function adds one to the product of x and y,\n",
        "    and this is how you are supposed to document what a \n",
        "    function does.\"\"\"\n",
        "    p = x * y\n",
        "    return p + 1"
      ],
      "execution_count": 0,
      "outputs": []
    },
    {
      "cell_type": "code",
      "metadata": {
        "id": "qUoBpghDhfYr",
        "colab_type": "code",
        "outputId": "d63d99b1-1c5e-4a91-cb49-bdae2bb5e3a3",
        "colab": {
          "base_uri": "https://localhost:8080/",
          "height": 34
        }
      },
      "source": [
        "add_one_to_prod(3, 3)"
      ],
      "execution_count": 0,
      "outputs": [
        {
          "output_type": "execute_result",
          "data": {
            "text/plain": [
              "10"
            ]
          },
          "metadata": {
            "tags": []
          },
          "execution_count": 144
        }
      ]
    },
    {
      "cell_type": "markdown",
      "metadata": {
        "id": "qlGnGlVIYGXP",
        "colab_type": "text"
      },
      "source": [
        "As is traditional, we must now write the factorial function:"
      ]
    },
    {
      "cell_type": "code",
      "metadata": {
        "id": "_uaQzgOSYqno",
        "colab_type": "code",
        "outputId": "0c9c4f81-53e0-483c-b637-d7b0c54476a9",
        "colab": {
          "base_uri": "https://localhost:8080/",
          "height": 34
        }
      },
      "source": [
        "def factorial(n):\n",
        "    # Assertions are useful to check that the values passed to a function make sense.\n",
        "    # These assertions cause an error if not satisfied.  Try it! \n",
        "    assert type(n) is int, \"n is not an integer!\"\n",
        "    assert n > 0, \"n is not positive!\"\n",
        "    if n == 1:\n",
        "        return 1\n",
        "    else:\n",
        "        return n * factorial(n - 1)\n",
        "    \n",
        "factorial(4)"
      ],
      "execution_count": 0,
      "outputs": [
        {
          "output_type": "execute_result",
          "data": {
            "text/plain": [
              "24"
            ]
          },
          "metadata": {
            "tags": []
          },
          "execution_count": 152
        }
      ]
    },
    {
      "cell_type": "markdown",
      "metadata": {
        "id": "zuGMB9BCYu4z",
        "colab_type": "text"
      },
      "source": [
        "Here is Euclid's algorithm for finding the greatest common divisor (GCD) of two numbers:\n"
      ]
    },
    {
      "cell_type": "code",
      "metadata": {
        "id": "p771ic3-_dV0",
        "colab_type": "code",
        "outputId": "ac4c76a8-40ae-4a6c-86b1-be23f4bd211f",
        "colab": {
          "base_uri": "https://localhost:8080/",
          "height": 34
        }
      },
      "source": [
        "def gcd(n, k):\n",
        "    assert type(n) is int and type(k) is int # I am being fussy\n",
        "    assert n >= 0 and k >= 0\n",
        "    if n < 2: # Case for 0, 1\n",
        "        return k\n",
        "    else:\n",
        "        return gcd(k % n, n)\n",
        "\n",
        "gcd(342, 54)"
      ],
      "execution_count": 0,
      "outputs": [
        {
          "output_type": "execute_result",
          "data": {
            "text/plain": [
              "18"
            ]
          },
          "metadata": {
            "tags": []
          },
          "execution_count": 153
        }
      ]
    },
    {
      "cell_type": "markdown",
      "metadata": {
        "id": "ILPen88yY-Jq",
        "colab_type": "text"
      },
      "source": [
        "Note that in the algorithm above, in the first call it might be the case that `n > k`, but in all other calls, `n <= k` (why?).\n",
        "\n"
      ]
    },
    {
      "cell_type": "markdown",
      "metadata": {
        "id": "8iIncTOXZFsd",
        "colab_type": "text"
      },
      "source": [
        "A nice feature of Python is that functions can have _optional arguments_, which have a default value.\n"
      ]
    },
    {
      "cell_type": "code",
      "metadata": {
        "id": "GiWNWgfLAree",
        "colab_type": "code",
        "outputId": "4559ade8-4392-4779-bcfd-3081ef1759c8",
        "colab": {
          "base_uri": "https://localhost:8080/",
          "height": 34
        }
      },
      "source": [
        "def incadd(x, d=1):\n",
        "    return x + d\n",
        "\n",
        "incadd(3, d=4)"
      ],
      "execution_count": 0,
      "outputs": [
        {
          "output_type": "execute_result",
          "data": {
            "text/plain": [
              "7"
            ]
          },
          "metadata": {
            "tags": []
          },
          "execution_count": 154
        }
      ]
    },
    {
      "cell_type": "code",
      "metadata": {
        "id": "6LHUQEbcZNeK",
        "colab_type": "code",
        "outputId": "9b6b9d9e-1d16-4aeb-cad9-04bbe370fa2c",
        "colab": {
          "base_uri": "https://localhost:8080/",
          "height": 34
        }
      },
      "source": [
        "incadd(3)"
      ],
      "execution_count": 0,
      "outputs": [
        {
          "output_type": "execute_result",
          "data": {
            "text/plain": [
              "4"
            ]
          },
          "metadata": {
            "tags": []
          },
          "execution_count": 155
        }
      ]
    },
    {
      "cell_type": "markdown",
      "metadata": {
        "id": "fnpv2PIiZZ-1",
        "colab_type": "text"
      },
      "source": [
        "Often, the optional argument has default value `None`.  Functions, by the way, can be passed as arguments to other functions, just like any other values can.  Let's try this.\n",
        "\n",
        "First, we'll define a function `square` that squares a number:\n"
      ]
    },
    {
      "cell_type": "code",
      "metadata": {
        "id": "GBFW-H8jBjfR",
        "colab_type": "code",
        "colab": {}
      },
      "source": [
        "def square(x):\n",
        "    return x * x"
      ],
      "execution_count": 0,
      "outputs": []
    },
    {
      "cell_type": "markdown",
      "metadata": {
        "id": "-GSQGSuvZpfb",
        "colab_type": "text"
      },
      "source": [
        "Now we can define another function that takes an optional argument callled `modifier_function`:"
      ]
    },
    {
      "cell_type": "code",
      "metadata": {
        "id": "fXFqzdChZp-2",
        "colab_type": "code",
        "colab": {}
      },
      "source": [
        "def inc_then_modify(x, modifier_function=None):\n",
        "    \"\"\"Adds 1 to x, then applies modifier_function if any,\n",
        "    and returns the result.\"\"\"\n",
        "    y = x + 1\n",
        "    return y if modifier_function is None else modifier_function(y)"
      ],
      "execution_count": 0,
      "outputs": []
    },
    {
      "cell_type": "code",
      "metadata": {
        "id": "fwdhNzD-ZrCU",
        "colab_type": "code",
        "outputId": "48ee7633-2e1d-4674-a905-0b42d2535f88",
        "colab": {
          "base_uri": "https://localhost:8080/",
          "height": 34
        }
      },
      "source": [
        "inc_then_modify(2)"
      ],
      "execution_count": 0,
      "outputs": [
        {
          "output_type": "execute_result",
          "data": {
            "text/plain": [
              "3"
            ]
          },
          "metadata": {
            "tags": []
          },
          "execution_count": 158
        }
      ]
    },
    {
      "cell_type": "code",
      "metadata": {
        "id": "JSRTH2PvZrYh",
        "colab_type": "code",
        "outputId": "7351ee67-e0c5-4730-aaaa-71f0ac6b58ce",
        "colab": {
          "base_uri": "https://localhost:8080/",
          "height": 34
        }
      },
      "source": [
        "inc_then_modify(2, modifier_function=square)"
      ],
      "execution_count": 0,
      "outputs": [
        {
          "output_type": "execute_result",
          "data": {
            "text/plain": [
              "9"
            ]
          },
          "metadata": {
            "tags": []
          },
          "execution_count": 159
        }
      ]
    },
    {
      "cell_type": "markdown",
      "metadata": {
        "id": "iPp6yJhCApcR",
        "colab_type": "text"
      },
      "source": [
        "## Printing, string formatting, and file input/output"
      ]
    },
    {
      "cell_type": "markdown",
      "metadata": {
        "id": "tlWC4Mr3a2XQ",
        "colab_type": "text"
      },
      "source": [
        "We have seen that the `print()` function takes any number of arguments, and prints them with intervening spaces:\n"
      ]
    },
    {
      "cell_type": "code",
      "metadata": {
        "id": "LR3MyRgwAuAT",
        "colab_type": "code",
        "colab": {}
      },
      "source": [
        "print(\"I have\", 3, 'chickens')"
      ],
      "execution_count": 0,
      "outputs": []
    },
    {
      "cell_type": "markdown",
      "metadata": {
        "id": "_yRBruJxbHWE",
        "colab_type": "text"
      },
      "source": [
        "We can also use `{}` and `.format()` to specify a string with `{}` holes, which are filled by the arguments of `.format()`: \n"
      ]
    },
    {
      "cell_type": "code",
      "metadata": {
        "id": "pJNS96GMA71h",
        "colab_type": "code",
        "colab": {}
      },
      "source": [
        "\"I have {} chickens\".format(3)"
      ],
      "execution_count": 0,
      "outputs": []
    },
    {
      "cell_type": "code",
      "metadata": {
        "id": "uFgBuLA_bSba",
        "colab_type": "code",
        "colab": {}
      },
      "source": [
        "\"{} is divisible by {}\".format(10, 2)"
      ],
      "execution_count": 0,
      "outputs": []
    },
    {
      "cell_type": "markdown",
      "metadata": {
        "id": "NklKrljQbWyC",
        "colab_type": "text"
      },
      "source": [
        "You can also use formatting options to specify the number of digits to print for floating point numbers, etc. \n"
      ]
    },
    {
      "cell_type": "code",
      "metadata": {
        "id": "GZNGrOqfBO5J",
        "colab_type": "code",
        "colab": {}
      },
      "source": [
        "\"A gazillion is {:.2f}% less than a bazillion\".format(15.67980)"
      ],
      "execution_count": 0,
      "outputs": []
    },
    {
      "cell_type": "markdown",
      "metadata": {
        "id": "xZUrhQTLbhBi",
        "colab_type": "text"
      },
      "source": [
        "For file input/output, you can open files for writing like this:\n"
      ]
    },
    {
      "cell_type": "code",
      "metadata": {
        "id": "pkH3a2xEBxMC",
        "colab_type": "code",
        "colab": {}
      },
      "source": [
        "with open('myfile', 'w') as f:\n",
        "  f.write(\"hello\")"
      ],
      "execution_count": 0,
      "outputs": []
    },
    {
      "cell_type": "markdown",
      "metadata": {
        "id": "IqWA7u3Ibuhs",
        "colab_type": "text"
      },
      "source": [
        "The second argument to `open()` is the _mode_, which specifies what we can do with the file we are opening.  In this case, we are opening the file in order to write to it, so we specify `'w'` as the mode.\n",
        "\n",
        "When we open a file using a `with` statement like this, we don't need to explicitly close the file when we are done; it is closed as soon as we go out of the scope of the `with` statement."
      ]
    },
    {
      "cell_type": "markdown",
      "metadata": {
        "id": "EnfSfYMbdgIt",
        "colab_type": "text"
      },
      "source": [
        "If we don't specify a mode, the default is `'r'` for reading.  Let's read the file we just wrote to:"
      ]
    },
    {
      "cell_type": "code",
      "metadata": {
        "id": "iK0t68PzCTTs",
        "colab_type": "code",
        "colab": {}
      },
      "source": [
        "with open('myfile') as f:\n",
        "    s = f.read() # This reads the file in a single shot\n",
        "s"
      ],
      "execution_count": 0,
      "outputs": []
    },
    {
      "cell_type": "markdown",
      "metadata": {
        "id": "vLiqi0CBdu8q",
        "colab_type": "text"
      },
      "source": [
        "You can also read files one line at a time by iterating over them:\n"
      ]
    },
    {
      "cell_type": "code",
      "metadata": {
        "id": "MVuuYwryCb-c",
        "colab_type": "code",
        "colab": {}
      },
      "source": [
        "with open('mylongfile', 'w') as f:\n",
        "    f.write('hello\\n')\n",
        "    f.write('there!\\n')\n",
        "with open('mylongfile') as g:\n",
        "    for s in g:\n",
        "        print(s)"
      ],
      "execution_count": 0,
      "outputs": []
    },
    {
      "cell_type": "markdown",
      "metadata": {
        "id": "vDyUpa7_L54U",
        "colab_type": "text"
      },
      "source": [
        "## Importing modules"
      ]
    },
    {
      "cell_type": "markdown",
      "metadata": {
        "id": "83zzr4ind2Qb",
        "colab_type": "text"
      },
      "source": [
        "Python libraries are organized in _modules_.  You need to import a module before you can use things defined in it:\n"
      ]
    },
    {
      "cell_type": "code",
      "metadata": {
        "id": "5wYw6n_5L98R",
        "colab_type": "code",
        "colab": {}
      },
      "source": [
        "import math\n",
        "math.sqrt(3.)"
      ],
      "execution_count": 0,
      "outputs": []
    },
    {
      "cell_type": "markdown",
      "metadata": {
        "id": "HV4ICe6leXVu",
        "colab_type": "text"
      },
      "source": [
        "If you like, you can also import individual functions from libraries.\n"
      ]
    },
    {
      "cell_type": "code",
      "metadata": {
        "id": "ptW6o8nZMI3v",
        "colab_type": "code",
        "colab": {}
      },
      "source": [
        "from math import sqrt as square_root\n",
        "square_root(2.)"
      ],
      "execution_count": 0,
      "outputs": []
    },
    {
      "cell_type": "markdown",
      "metadata": {
        "id": "jRH24PaU-iso",
        "colab_type": "text"
      },
      "source": [
        "One of the things that makes Python great is the huge set of modules that are available for it.  You can look at https://docs.python.org/3/library/ for information about the Python standard library, but there is a very large number of modules besides the standard library.  The general rule is, before you try to implement something, look at whether there is a module available that does (part of) what you want to do.  (Unless we're explicitly asking you to implement something as part of homework, that is.)"
      ]
    },
    {
      "cell_type": "markdown",
      "metadata": {
        "id": "dRtVOqsBC4AJ",
        "colab_type": "text"
      },
      "source": [
        "## Exceptions"
      ]
    },
    {
      "cell_type": "markdown",
      "metadata": {
        "id": "7TbRij6dfSHg",
        "colab_type": "text"
      },
      "source": [
        "When things go wrong, Python raises an _exception_.  You can catch it and handle it using a `try` statement:\n"
      ]
    },
    {
      "cell_type": "code",
      "metadata": {
        "id": "nzl7G2J6C7IR",
        "colab_type": "code",
        "colab": {}
      },
      "source": [
        "try:\n",
        "    x = 34 / 'a'\n",
        "except TypeError:\n",
        "    print(\"Oops!\")"
      ],
      "execution_count": 0,
      "outputs": []
    },
    {
      "cell_type": "markdown",
      "metadata": {
        "id": "LTxyHKtQhlvv",
        "colab_type": "text"
      },
      "source": [
        "The module `traceback` is very useful to figure out where exceptions happen, and what happened:"
      ]
    },
    {
      "cell_type": "code",
      "metadata": {
        "id": "LlWMZjRaC8DJ",
        "colab_type": "code",
        "colab": {}
      },
      "source": [
        "import traceback\n",
        "try: \n",
        "    x = 34 / 'a'\n",
        "except:\n",
        "    print(traceback.format_exc())"
      ],
      "execution_count": 0,
      "outputs": []
    },
    {
      "cell_type": "markdown",
      "metadata": {
        "id": "_rUPPCR9hxF0",
        "colab_type": "text"
      },
      "source": [
        "You can also create your own exceptions by defining an _exception class_ (classes are further discussed below):\n"
      ]
    },
    {
      "cell_type": "code",
      "metadata": {
        "id": "Dw70PaQVDdV9",
        "colab_type": "code",
        "colab": {}
      },
      "source": [
        "class Indigestion(Exception):\n",
        "    pass\n",
        "\n",
        "def eat(m, l):\n",
        "    if len(l) > 2:\n",
        "        raise Indigestion()\n",
        "    return m + l\n",
        "\n",
        "l = ['eggs', 'bacon', 'peanuts']\n",
        "\n",
        "try:\n",
        "    eat(['bananas'], l)\n",
        "except Indigestion:\n",
        "    print(\"Hey, that's too much.\")"
      ],
      "execution_count": 0,
      "outputs": []
    },
    {
      "cell_type": "markdown",
      "metadata": {
        "id": "v3CGE72REsXJ",
        "colab_type": "text"
      },
      "source": [
        "## Classes"
      ]
    },
    {
      "cell_type": "markdown",
      "metadata": {
        "id": "49jy3u3aiZqi",
        "colab_type": "text"
      },
      "source": [
        "The [Python tutorial](https://docs.python.org/3/tutorial/classes.html) has a nice explanation of what classes do in Python:\n",
        "\n",
        "> Classes provide a means of bundling data and functionality together. Creating a new class creates a new type of object, allowing new instances of that type to be made. Each class instance can have attributes attached to it for maintaining its state. Class instances can also have methods (defined by its class) for modifying its state.\n",
        "\n",
        "Here's a simple example of a class representing an item that might be in a shopping cart.  Items have a name, a price, and a quantity, and you can do a few things with them, as defined by the methods in the class:"
      ]
    },
    {
      "cell_type": "code",
      "metadata": {
        "id": "QkYwW8lIEc1M",
        "colab_type": "code",
        "colab": {}
      },
      "source": [
        "class CartItem:\n",
        "    \n",
        "    def __init__(self, name, price=0., quantity=0):\n",
        "        \"\"\"In the initializer, you should define the attributes that each\n",
        "        instance of an object will have.  Here, 'self' means the object.\"\"\"\n",
        "        self.name = name \n",
        "        self.price = price\n",
        "        self.quantity = quantity\n",
        "        \n",
        "    def __repr__(self):\n",
        "        \"\"\"Represents a class element in a reasonable way.\n",
        "        Note the use of .format() below to help produce a string.\"\"\"\n",
        "        return \"Hello, I am a {} and cost ${}; you have {} of me\".format(\n",
        "            self.name, self.price, self.quantity\n",
        "        )       \n",
        "    \n",
        "    def inflate_price(self, x):\n",
        "        \"\"\"Increases the price by a factor x.\n",
        "        Note how self is always the first argument of methods; otherwise,\n",
        "        you would not know to which object to apply the operations.\"\"\"\n",
        "        self.price *= x\n",
        "        \n",
        "    def value(self):\n",
        "        \"\"\"Total value of products of this type.\"\"\"\n",
        "        return self.price * self.quantity\n",
        "        "
      ],
      "execution_count": 0,
      "outputs": []
    },
    {
      "cell_type": "markdown",
      "metadata": {
        "id": "Q1R_clyej16a",
        "colab_type": "text"
      },
      "source": [
        "Let's make a list of items that might be in a shopping cart:"
      ]
    },
    {
      "cell_type": "code",
      "metadata": {
        "id": "Vjif1xPIOn3L",
        "colab_type": "code",
        "colab": {}
      },
      "source": [
        "cart = [\n",
        "    CartItem('Pear', price=1.99, quantity=10),\n",
        "    CartItem('Apple', price=0.99, quantity=15),\n",
        "    CartItem('Onion', price=1.49, quantity=57)\n",
        "]"
      ],
      "execution_count": 0,
      "outputs": []
    },
    {
      "cell_type": "markdown",
      "metadata": {
        "id": "43YwjaEGj6_u",
        "colab_type": "text"
      },
      "source": [
        "We can print the contents of our cart full of `CartItems`s; the `__repr__` method in the `CartItem` class determines what we get when we print each item.\n"
      ]
    },
    {
      "cell_type": "code",
      "metadata": {
        "id": "A-np4oPXOmzG",
        "colab_type": "code",
        "colab": {}
      },
      "source": [
        "for item in cart:\n",
        "    print(item)"
      ],
      "execution_count": 0,
      "outputs": []
    },
    {
      "cell_type": "markdown",
      "metadata": {
        "id": "XehLibbfkPsT",
        "colab_type": "text"
      },
      "source": [
        "What if you want to buy more stuff?  The proper way would be to define a `buy` method in the `CartItem` class, and write something like `p.buy(10)` to buy 10 more of product `p`.  But in Python, there is nothing to prevent you from accessing object variables directly.\n"
      ]
    },
    {
      "cell_type": "code",
      "metadata": {
        "id": "bqSkhbxMPYkz",
        "colab_type": "code",
        "colab": {}
      },
      "source": [
        "def double_the_cart(c):\n",
        "    for p in c:\n",
        "        p.quantity *= 2\n",
        "        \n",
        "double_the_cart(cart)\n",
        "\n",
        "def print_cart(c):\n",
        "    for p in c:\n",
        "        print(p)\n",
        "        \n",
        "print_cart(cart)"
      ],
      "execution_count": 0,
      "outputs": []
    },
    {
      "cell_type": "markdown",
      "metadata": {
        "id": "BjpVTLNCOBQ8",
        "colab_type": "text"
      },
      "source": [
        "We've only scratched the surface of what there is to say about classes in Python; see the [Python docs](https://docs.python.org/3/tutorial/classes.html) for more."
      ]
    },
    {
      "cell_type": "markdown",
      "metadata": {
        "id": "GiIDiPF-QqeS",
        "colab_type": "text"
      },
      "source": [
        "## A simple event simulator"
      ]
    },
    {
      "cell_type": "markdown",
      "metadata": {
        "id": "VXPul2nYSEjT",
        "colab_type": "text"
      },
      "source": [
        "Let's try to put everything we've learned together and design a simple _event simulator_.  This might be useful for implementing, say, a game or a physics simulation.\n",
        "\n",
        "In our simulator, every event will have a time at which it happens.  When it happens, it will generate two things: a string that is printed, and a list (possibly empty) of subsequent events. \n",
        "\n",
        "Let us write the code for three event types: one that occurs only once (we'll call these _once-only events_), one that occurs periodically with a certain delay between occurrences forever (we'll call these _infinite periodic events_), and one that occurs periodically, but has a specified maximum number of occurrences (we'll call these _periodic events_)."
      ]
    },
    {
      "cell_type": "markdown",
      "metadata": {
        "id": "YCdTdPjpktW2",
        "colab_type": "text"
      },
      "source": [
        "Before we do it, let's define a handy `sign` function that tells you the sign of a number."
      ]
    },
    {
      "cell_type": "code",
      "metadata": {
        "id": "ZyGOQoslhva5",
        "colab_type": "code",
        "colab": {}
      },
      "source": [
        "def sign(x):\n",
        "    if x < 0:\n",
        "        return -1\n",
        "    elif x > 0:\n",
        "        return 1\n",
        "    else:\n",
        "        return 0"
      ],
      "execution_count": 0,
      "outputs": []
    },
    {
      "cell_type": "markdown",
      "metadata": {
        "id": "_nEQpoeVP4Gv",
        "colab_type": "text"
      },
      "source": [
        "Now let's define a `GenericEvent` class.  This class will be a _superclass_ of the three different event classes that we really want (for once-only events, infinite periodic events, and periodic events)."
      ]
    },
    {
      "cell_type": "code",
      "metadata": {
        "id": "R6NcNyN-Qpda",
        "colab_type": "code",
        "colab": {}
      },
      "source": [
        "class GenericEvent:\n",
        "    \n",
        "    def __init__(self, name, time):\n",
        "        self.name = name\n",
        "        self.time = time\n",
        "        \n",
        "    def __repr__(self):\n",
        "        return \"Event '{}' of type {} will occur at {}\".format(\n",
        "            self.name,\n",
        "            type(self),\n",
        "            self.time.isoformat()\n",
        "        )\n",
        "    \n",
        "    def __lt__(self, other):\n",
        "        \"\"\"To sort events according to their time, we need to \n",
        "        implement the __lt__ operator.  This will be used by heapq later.\"\"\" \n",
        "        return self.time < other.time        \n",
        "    \n",
        "    def _effect(self):\n",
        "        \"\"\"In Python, methods that are supposed to be accessed only within\n",
        "        the class are prepended with _.  Note that this is just a convention;\n",
        "        nothing prevents you from calling these methods from outside the class.\n",
        "        \"\"\"\n",
        "        print(\"At {}: {}\".format(self.time.isoformat(), self.name))\n",
        "        \n",
        "    def do(self):\n",
        "        \"\"\"We'll leave this unimplemented and instead define what happens in\n",
        "        each subclass.\"\"\"\n",
        "        raise NotImplementedError"
      ],
      "execution_count": 0,
      "outputs": []
    },
    {
      "cell_type": "markdown",
      "metadata": {
        "id": "7NjkI4wzRIFk",
        "colab_type": "text"
      },
      "source": [
        "Let's create a `GenericEvent` and see what it looks like:"
      ]
    },
    {
      "cell_type": "code",
      "metadata": {
        "id": "o4ef5VweRPm5",
        "colab_type": "code",
        "colab": {}
      },
      "source": [
        "# We need the datetime module to process times.\n",
        "import datetime\n",
        "e = GenericEvent('Sun shines', datetime.datetime.now() + datetime.timedelta(hours=1))\n",
        "e"
      ],
      "execution_count": 0,
      "outputs": []
    },
    {
      "cell_type": "markdown",
      "metadata": {
        "id": "CkBN_gMNRjnk",
        "colab_type": "text"
      },
      "source": [
        "Now let's define a class for once-only events.  This class will _inherit from_ the `GenericEvent` class, so we don't have to redefine the methods of `GenericEvent` here.\n",
        "\n",
        "The `do` method of `OnceOnlyEvent` just calls the `_effect()` method from `GenericEvent` and returns an empty list `[]`.\n"
      ]
    },
    {
      "cell_type": "code",
      "metadata": {
        "id": "GOn2kj8OTlgG",
        "colab_type": "code",
        "colab": {}
      },
      "source": [
        "class OnceOnlyEvent(GenericEvent):\n",
        "    \"\"\"OnceOnlyEvent extends GenericEvent, and so it inherits all of its\n",
        "    methods, including __repr__, __comp__, _effect.\"\"\"\n",
        "    \n",
        "    def __init__(self, name, time):\n",
        "        # We simply define an element of the superclass.\n",
        "        # Here, super() is the Python way for getting\n",
        "        # access to the superclass methods from a subclass. \n",
        "        super().__init__(name, time)\n",
        "        \n",
        "    def do(self):\n",
        "        self._effect()\n",
        "        # No other events are generated.\n",
        "        return []"
      ],
      "execution_count": 0,
      "outputs": []
    },
    {
      "cell_type": "markdown",
      "metadata": {
        "id": "EBhP0l58TPtH",
        "colab_type": "text"
      },
      "source": [
        "Now we'll define the `InfinitePeriodicEvent` class, which also inherits from `GenericEvent`.  This one is more interesting because in addition to the attributes of name and time, we also want to keep track of the event's _periodicity_, or how much time there is between occurrences of the event."
      ]
    },
    {
      "cell_type": "code",
      "metadata": {
        "id": "oU9pf8fwU9Gx",
        "colab_type": "code",
        "colab": {}
      },
      "source": [
        "class InfinitePeriodicEvent(GenericEvent):\n",
        "    \"\"\"This is a periodic event.\"\"\"\n",
        "    \n",
        "    def __init__(self, name, time, periodicity):\n",
        "        \"\"\"time is a datetime object; periodicity is expressed as a timedelta object.\"\"\"\n",
        "        super().__init__(name, time)\n",
        "        self.periodicity = periodicity\n",
        "        \n",
        "    def do(self):\n",
        "        self._effect()\n",
        "        # Generates and returns the next occurrence of the event.\n",
        "        next_event = PeriodicEvent(\n",
        "            self.name, \n",
        "            self.time + self.periodicity,\n",
        "            self.periodicity\n",
        "        )\n",
        "        return [next_event]"
      ],
      "execution_count": 0,
      "outputs": []
    },
    {
      "cell_type": "markdown",
      "metadata": {
        "id": "DWcu3hgOU7N1",
        "colab_type": "text"
      },
      "source": [
        "Let's create one of these events and look at it!"
      ]
    },
    {
      "cell_type": "code",
      "metadata": {
        "id": "0RsE2i1pVKci",
        "colab_type": "code",
        "colab": {}
      },
      "source": [
        "ipe = InfinitePeriodicEvent('Sun rises',\n",
        "                            datetime.datetime.now(),\n",
        "                            datetime.timedelta(hours=24))\n",
        "ipe"
      ],
      "execution_count": 0,
      "outputs": []
    },
    {
      "cell_type": "markdown",
      "metadata": {
        "id": "PMTzz6_pUF0D",
        "colab_type": "text"
      },
      "source": [
        "Finally, we can define a class for periodic events that can have a maximum number of occurrences.\n",
        "\n"
      ]
    },
    {
      "cell_type": "code",
      "metadata": {
        "id": "JBDmQKy_WGiq",
        "colab_type": "code",
        "colab": {}
      },
      "source": [
        "class PeriodicEvent(GenericEvent):\n",
        "    \"\"\"This is a periodic event like above, except that it has\n",
        "    an optional maximum number of occurrences.\"\"\"\n",
        "    \n",
        "    def __init__(self, name, time, periodicity, num_occurrences=None):\n",
        "        \"\"\"\n",
        "        Let's document this constructor a bit better.\n",
        "        @param name: name of the event.\n",
        "        @param time: time of first occurrence of the event (datetime object).\n",
        "        @param periodicity: periodicity of the event (timedelta object).\n",
        "        @param num_occurrences: number of future occurrences of the event.\n",
        "            If None, then infinite future occurrences can happen.\n",
        "        \"\"\"\n",
        "        assert num_occurrences is None or num_occurrences > 0\n",
        "        # We don't want to go back in time!\n",
        "        assert periodicity.total_seconds() > 0.\n",
        "        super().__init__(name, time)\n",
        "        self.periodicity = periodicity\n",
        "        self.num_occurrences = num_occurrences\n",
        "        \n",
        "    def do(self):\n",
        "        self._effect()\n",
        "        # Generates and returns the next occurrence of the event.\n",
        "        if self.num_occurrences is None or self.num_occurrences > 1:\n",
        "            return [PeriodicEvent(\n",
        "                self.name, \n",
        "                self.time + self.periodicity,\n",
        "                self.periodicity,\n",
        "                num_occurrences = None if self.num_occurrences is None \n",
        "                                  else self.num_occurrences - 1\n",
        "            )]\n",
        "        else:\n",
        "            return []"
      ],
      "execution_count": 0,
      "outputs": []
    },
    {
      "cell_type": "markdown",
      "metadata": {
        "id": "paW7emunYCI8",
        "colab_type": "text"
      },
      "source": [
        "Now, let's define our discrete event simulator.  It will be a class, have a method to add new events to it, and it will have a method `step`, which causes the next event to occur. \n",
        "\n",
        "In order to quickly determine which one is the next event, \n",
        "we will store events in a priority queue.  This is implemented via the `heapq` Python module, whose documentation is at https://docs.python.org/2/library/heapq.html."
      ]
    },
    {
      "cell_type": "code",
      "metadata": {
        "id": "QMKRcWMOX3dY",
        "colab_type": "code",
        "colab": {}
      },
      "source": [
        "import heapq # Implementation of a priority queue in Python.\n",
        "             # This is what uses the __lt__ method of events.\n",
        "\n",
        "class EventSimulator(object):\n",
        "    \n",
        "    def __init__(self, event_list=[]):\n",
        "        self.event_heap = event_list\n",
        "        # We transform the event list into a heap.\n",
        "        heapq.heapify(self.event_heap)\n",
        "        \n",
        "    def add_event(self, e):\n",
        "        \"\"\"Adds an event e, maintaining the heap invariant.\"\"\"\n",
        "        heapq.heappush(self.event_heap, e)\n",
        "        \n",
        "    def step(self):\n",
        "        \"\"\"Performs one step of the event simulator.\"\"\"\n",
        "        # Gets the first event.\n",
        "        e = heapq.heappop(self.event_heap)\n",
        "        # Causes e to happen.\n",
        "        generated_events = e.do()\n",
        "        # And inserts the resulting events into the heap of future events.\n",
        "        for ge in generated_events:\n",
        "            self.add_event(ge)"
      ],
      "execution_count": 0,
      "outputs": []
    },
    {
      "cell_type": "markdown",
      "metadata": {
        "id": "UafOrcoNWD7z",
        "colab_type": "text"
      },
      "source": [
        "That's all there is to the event simulator.  Now let's see how it works.  We'll create a couple of events that happen only once:"
      ]
    },
    {
      "cell_type": "code",
      "metadata": {
        "id": "-Va0ZFeOcnvy",
        "colab_type": "code",
        "colab": {}
      },
      "source": [
        "now = datetime.datetime.now()\n",
        "ten_secs = datetime.timedelta(seconds=10)\n",
        "twentyfive_secs = datetime.timedelta(seconds=25)\n",
        "\n",
        "once1 = OnceOnlyEvent(\"once1\", now + ten_secs)\n",
        "once2 = OnceOnlyEvent(\"once2\", now + twentyfive_secs)"
      ],
      "execution_count": 0,
      "outputs": []
    },
    {
      "cell_type": "markdown",
      "metadata": {
        "id": "NU0uDxC4WSsz",
        "colab_type": "text"
      },
      "source": [
        "Let's also define two periodic events, one with 10 occurrences, the other with infinite occurrences.\n"
      ]
    },
    {
      "cell_type": "code",
      "metadata": {
        "id": "Ebb1lJlAdPdj",
        "colab_type": "code",
        "colab": {}
      },
      "source": [
        "two_secs = datetime.timedelta(seconds=2)\n",
        "three_secs = datetime.timedelta(seconds=3)\n",
        "\n",
        "periodic1 = PeriodicEvent(\"periodic1\", now + ten_secs, two_secs, num_occurrences=10)\n",
        "periodic2 = PeriodicEvent(\"periodic2\", now + twentyfive_secs, three_secs)"
      ],
      "execution_count": 0,
      "outputs": []
    },
    {
      "cell_type": "markdown",
      "metadata": {
        "id": "dtxsx1ekWZJI",
        "colab_type": "text"
      },
      "source": [
        "And now we can create our event simulator:\n"
      ]
    },
    {
      "cell_type": "code",
      "metadata": {
        "id": "njwkT706eXLm",
        "colab_type": "code",
        "colab": {}
      },
      "source": [
        "sim = EventSimulator([once1, once2, periodic1, periodic2])"
      ],
      "execution_count": 0,
      "outputs": []
    },
    {
      "cell_type": "markdown",
      "metadata": {
        "id": "XKtiz6nhWfpA",
        "colab_type": "text"
      },
      "source": [
        "Now that we have `sim`, we can start calling its `step()` method and seeing what happens:"
      ]
    },
    {
      "cell_type": "code",
      "metadata": {
        "id": "LsjIFxY-g3P7",
        "colab_type": "code",
        "colab": {}
      },
      "source": [
        "sim.step()"
      ],
      "execution_count": 0,
      "outputs": []
    },
    {
      "cell_type": "markdown",
      "metadata": {
        "id": "mkb-IE4UW2Kx",
        "colab_type": "text"
      },
      "source": [
        "What's in the event queue to happen next?  Let's peek at it to find out:"
      ]
    },
    {
      "cell_type": "code",
      "metadata": {
        "id": "JuNMeyDYiNFs",
        "colab_type": "code",
        "colab": {}
      },
      "source": [
        "sim.event_heap"
      ],
      "execution_count": 0,
      "outputs": []
    },
    {
      "cell_type": "markdown",
      "metadata": {
        "id": "1Jz7b8ncXHkj",
        "colab_type": "text"
      },
      "source": [
        "Let's do 20 steps now, and then peek at the event queue again:\n"
      ]
    },
    {
      "cell_type": "code",
      "metadata": {
        "id": "SpxS_5SYioUv",
        "colab_type": "code",
        "colab": {}
      },
      "source": [
        "for _ in range(20):\n",
        "    sim.step()\n",
        "sim.event_heap"
      ],
      "execution_count": 0,
      "outputs": []
    },
    {
      "cell_type": "markdown",
      "metadata": {
        "id": "GhXCeYkojMl9",
        "colab_type": "text"
      },
      "source": [
        "Since the event queue is part of the `sim` object's state, if we run the above cell again, we'll get different results (try it!)."
      ]
    }
  ]
}